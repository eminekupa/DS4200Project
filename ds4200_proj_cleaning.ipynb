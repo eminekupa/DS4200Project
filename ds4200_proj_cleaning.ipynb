{
 "cells": [
  {
   "cell_type": "code",
   "execution_count": 1,
   "id": "4ec49c11-c88c-4fb4-9dc3-3d0312a862e4",
   "metadata": {},
   "outputs": [],
   "source": [
    "# DS4200\n",
    "# Final Project\n",
    "# Data Cleaning Portion"
   ]
  },
  {
   "cell_type": "code",
   "execution_count": null,
   "id": "509e76c7-10c8-4560-9c66-822a1173a13e",
   "metadata": {},
   "outputs": [],
   "source": [
    "import pandas as pd"
   ]
  }
 ],
 "metadata": {
  "kernelspec": {
   "display_name": "Python [conda env:ds_env]",
   "language": "python",
   "name": "conda-env-ds_env-py"
  },
  "language_info": {
   "codemirror_mode": {
    "name": "ipython",
    "version": 3
   },
   "file_extension": ".py",
   "mimetype": "text/x-python",
   "name": "python",
   "nbconvert_exporter": "python",
   "pygments_lexer": "ipython3",
   "version": "3.12.8"
  }
 },
 "nbformat": 4,
 "nbformat_minor": 5
}
