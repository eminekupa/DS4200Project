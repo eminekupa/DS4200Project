{
 "cells": [
  {
   "cell_type": "code",
   "execution_count": 1,
   "id": "4ec49c11-c88c-4fb4-9dc3-3d0312a862e4",
   "metadata": {},
   "outputs": [],
   "source": [
    "# DS4200\n",
    "# Final Project\n",
    "# Data Cleaning Portion"
   ]
  },
  {
   "cell_type": "code",
   "execution_count": 117,
   "id": "509e76c7-10c8-4560-9c66-822a1173a13e",
   "metadata": {},
   "outputs": [],
   "source": [
    "import pandas as pd\n",
    "import numpy as np"
   ]
  },
  {
   "cell_type": "code",
   "execution_count": 3,
   "id": "8e35af73-6d0e-42f7-af32-83d915c2c213",
   "metadata": {},
   "outputs": [],
   "source": [
    "# Read in the files\n",
    "resort_df = pd.read_csv(\"H1.csv\")\n",
    "city_df = pd.read_csv(\"H2.csv\")"
   ]
  },
  {
   "cell_type": "code",
   "execution_count": 109,
   "id": "496d42d5-5645-4a32-a899-d4ed7cfc010e",
   "metadata": {},
   "outputs": [
    {
     "name": "stdout",
     "output_type": "stream",
     "text": [
      "{'ITA', 'FRA', 'ESP'}\n"
     ]
    }
   ],
   "source": [
    "# Append the 2 datasets\n",
    "# Create a column to differentiate the booking type (city, hotel)\n",
    "resort_df[\"HotelType\"] = \"Resort\"\n",
    "city_df[\"HotelType\"] = \"City\"\n",
    "\n",
    "# Now conduct the merge\n",
    "bookings_df = pd.concat((resort_df, city_df), axis=0)\n",
    "\n",
    "# Filter the data down to 3 countries --> Spain, France, Italy\n",
    "#country_lst = list(\"ESP\", \"FRA\", \"ITA\")\n",
    "bookings_df = bookings_df.loc[bookings_df[\"Country\"].isin([\"ESP\", \"FRA\", \"ITA\"])]\n",
    "print(set(bookings_df[\"Country\"]))"
   ]
  },
  {
   "cell_type": "code",
   "execution_count": 143,
   "id": "e586278d-4c3a-4d72-b30b-12a74560c32b",
   "metadata": {},
   "outputs": [
    {
     "name": "stdout",
     "output_type": "stream",
     "text": [
      "IsCanceled: 0.0%\n",
      "LeadTime: 0.0%\n",
      "ArrivalDateYear: 0.0%\n",
      "ArrivalDateMonth: 0.0%\n",
      "ArrivalDateWeekNumber: 0.0%\n",
      "ArrivalDateDayOfMonth: 0.0%\n",
      "StaysInWeekendNights: 0.0%\n",
      "StaysInWeekNights: 0.0%\n",
      "Adults: 0.0%\n",
      "Children: 0.0%\n",
      "Babies: 0.0%\n",
      "Meal: 0.0%\n",
      "Country: 0.0%\n",
      "MarketSegment: 0.0%\n",
      "DistributionChannel: 0.0%\n",
      "IsRepeatedGuest: 0.0%\n",
      "PreviousCancellations: 0.0%\n",
      "PreviousBookingsNotCanceled: 0.0%\n",
      "ReservedRoomType: 0.0%\n",
      "AssignedRoomType: 0.0%\n",
      "BookingChanges: 0.0%\n",
      "DepositType: 0.0%\n",
      "Agent: 6.752%\n",
      "DaysInWaitingList: 0.0%\n",
      "CustomerType: 0.0%\n",
      "ADR: 0.0%\n",
      "RequiredCarParkingSpaces: 0.0%\n",
      "TotalOfSpecialRequests: 0.0%\n",
      "ReservationStatus: 0.0%\n",
      "ReservationStatusDate: 0.0%\n",
      "HotelType: 0.0%\n"
     ]
    }
   ],
   "source": [
    "# Remove whitespace to find NULL values\n",
    "# and convert them to represent the NaN data type\n",
    "bookings_df = bookings_df.apply(lambda x: x.str.strip() if x.dtype == \"object\" else x)\n",
    "bookings_df.replace(\"NULL\", np.nan, inplace=True)\n",
    "\n",
    "# Find the amount of NaN rows in the dataset \n",
    "# and remove them\n",
    "null_rows = bookings_df[bookings_df.isnull().all(axis=1)]\n",
    "#print(null_rows)  #32\n",
    "\n",
    "null_idx = null_rows.index.to_list()\n",
    "bookings_df = bookings_df.drop(index=null_idx)\n",
    "\n",
    "# Find which column's have the highest prevalency\n",
    "# of null values\n",
    "for col in list(bookings_df.columns):\n",
    "    null_amt = bookings_df[col].isnull().sum()\n",
    "    pct = (null_amt / len(bookings_df)) * 100\n",
    "    print(f\"{col}: {round(pct, 3)}%\")"
   ]
  },
  {
   "cell_type": "code",
   "execution_count": 181,
   "id": "2e90cf6c-bb94-46f9-871e-67a15b5277f3",
   "metadata": {},
   "outputs": [],
   "source": [
    "# Convert columns to Strings\n",
    "string_cols = [\"ArrivalDateMonth\", \"Meal\", \"Country\", \"MarketSegment\",\n",
    "               \"DistributionChannel\", \"ReservedRoomType\", \"AssignedRoomType\",\n",
    "               \"DepositType\", \"Agent\", \"CustomerType\", \"ReservationStatus\", \"HotelType\"]\n",
    "for col in string_cols:\n",
    "    bookings_df[col] = bookings_df[col].astype(str)\n",
    "\n",
    "# Convert column to Datetime objects\n",
    "bookings_df[\"ReservationStatusDate\"] = pd.to_datetime(bookings_df[\"ReservationStatusDate\"])"
   ]
  },
  {
   "cell_type": "code",
   "execution_count": 187,
   "id": "f635df7f-4317-4e97-bfb9-1e85b9057d04",
   "metadata": {},
   "outputs": [],
   "source": [
    "# Based on the output above, it looks like the\n",
    "# `Company` column is useless due to the high \n",
    "# percentage of NaN values\n",
    "#bookings_df = bookings_df.drop(\"Company\", axis=1)\n",
    "\n",
    "# Replace NaN values in the `Agent` column\n",
    "# with the most common\n",
    "bookings_df[\"Agent\"] = bookings_df[\"Agent\"].replace(\"nan\", np.nan)\n",
    "\n",
    "mode_agent = bookings_df[\"Agent\"].mode().iloc[0]\n",
    "bookings_df[\"Agent\"] = bookings_df[\"Agent\"].fillna(mode_agent)"
   ]
  },
  {
   "cell_type": "code",
   "execution_count": null,
   "id": "b8825d53-3733-4f47-8bb6-e9e6e4c311f0",
   "metadata": {},
   "outputs": [],
   "source": []
  }
 ],
 "metadata": {
  "kernelspec": {
   "display_name": "Python [conda env:ds_env]",
   "language": "python",
   "name": "conda-env-ds_env-py"
  },
  "language_info": {
   "codemirror_mode": {
    "name": "ipython",
    "version": 3
   },
   "file_extension": ".py",
   "mimetype": "text/x-python",
   "name": "python",
   "nbconvert_exporter": "python",
   "pygments_lexer": "ipython3",
   "version": "3.12.8"
  }
 },
 "nbformat": 4,
 "nbformat_minor": 5
}
