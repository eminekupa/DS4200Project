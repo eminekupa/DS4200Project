{
 "cells": [
  {
   "cell_type": "code",
   "execution_count": 1,
   "id": "4ec49c11-c88c-4fb4-9dc3-3d0312a862e4",
   "metadata": {},
   "outputs": [],
   "source": [
    "# DS4200\n",
    "# Final Project\n",
    "# Data Cleaning Portion"
   ]
  },
  {
   "cell_type": "code",
   "execution_count": 2,
   "id": "509e76c7-10c8-4560-9c66-822a1173a13e",
   "metadata": {},
   "outputs": [],
   "source": [
    "import pandas as pd\n",
    "import numpy as np"
   ]
  },
  {
   "cell_type": "code",
   "execution_count": 3,
   "id": "8e35af73-6d0e-42f7-af32-83d915c2c213",
   "metadata": {},
   "outputs": [],
   "source": [
    "# Read in the files\n",
    "resort_df = pd.read_csv(\"H1.csv\")\n",
    "city_df = pd.read_csv(\"H2.csv\")"
   ]
  },
  {
   "cell_type": "code",
   "execution_count": 4,
   "id": "496d42d5-5645-4a32-a899-d4ed7cfc010e",
   "metadata": {},
   "outputs": [
    {
     "name": "stdout",
     "output_type": "stream",
     "text": [
      "{'FRA', 'ITA', 'ESP'}\n"
     ]
    }
   ],
   "source": [
    "# Append the 2 datasets\n",
    "# Create a column to differentiate the booking type (city, hotel)\n",
    "resort_df[\"HotelType\"] = \"Resort\"\n",
    "city_df[\"HotelType\"] = \"City\"\n",
    "\n",
    "# Now conduct the merge\n",
    "bookings_df = pd.concat((resort_df, city_df), axis=0)\n",
    "\n",
    "# Filter the data down to 3 countries --> Spain, France, Italy\n",
    "#country_lst = list(\"ESP\", \"FRA\", \"ITA\")\n",
    "bookings_df = bookings_df.loc[bookings_df[\"Country\"].isin([\"ESP\", \"FRA\", \"ITA\"])]\n",
    "print(set(bookings_df[\"Country\"]))"
   ]
  },
  {
   "cell_type": "code",
   "execution_count": 5,
   "id": "e586278d-4c3a-4d72-b30b-12a74560c32b",
   "metadata": {},
   "outputs": [
    {
     "name": "stdout",
     "output_type": "stream",
     "text": [
      "IsCanceled: 0.0%\n",
      "LeadTime: 0.0%\n",
      "ArrivalDateYear: 0.0%\n",
      "ArrivalDateMonth: 0.0%\n",
      "ArrivalDateWeekNumber: 0.0%\n",
      "ArrivalDateDayOfMonth: 0.0%\n",
      "StaysInWeekendNights: 0.0%\n",
      "StaysInWeekNights: 0.0%\n",
      "Adults: 0.0%\n",
      "Children: 0.0%\n",
      "Babies: 0.0%\n",
      "Meal: 0.0%\n",
      "Country: 0.0%\n",
      "MarketSegment: 0.0%\n",
      "DistributionChannel: 0.0%\n",
      "IsRepeatedGuest: 0.0%\n",
      "PreviousCancellations: 0.0%\n",
      "PreviousBookingsNotCanceled: 0.0%\n",
      "ReservedRoomType: 0.0%\n",
      "AssignedRoomType: 0.0%\n",
      "BookingChanges: 0.0%\n",
      "DepositType: 0.0%\n",
      "Agent: 6.752%\n",
      "Company: 97.631%\n",
      "DaysInWaitingList: 0.0%\n",
      "CustomerType: 0.0%\n",
      "ADR: 0.0%\n",
      "RequiredCarParkingSpaces: 0.0%\n",
      "TotalOfSpecialRequests: 0.0%\n",
      "ReservationStatus: 0.0%\n",
      "ReservationStatusDate: 0.0%\n",
      "HotelType: 0.0%\n"
     ]
    }
   ],
   "source": [
    "# Remove whitespace to find NULL values\n",
    "# and convert them to represent the NaN data type\n",
    "bookings_df = bookings_df.apply(lambda x: x.str.strip() if x.dtype == \"object\" else x)\n",
    "bookings_df.replace(\"NULL\", np.nan, inplace=True)\n",
    "\n",
    "# Find the amount of NaN rows in the dataset \n",
    "# and remove them\n",
    "null_rows = bookings_df[bookings_df.isnull().all(axis=1)]\n",
    "#print(null_rows)  #32\n",
    "\n",
    "null_idx = null_rows.index.to_list()\n",
    "bookings_df = bookings_df.drop(index=null_idx)\n",
    "\n",
    "# Find which column's have the highest prevalency\n",
    "# of null values\n",
    "for col in list(bookings_df.columns):\n",
    "    null_amt = bookings_df[col].isnull().sum()\n",
    "    pct = (null_amt / len(bookings_df)) * 100\n",
    "    print(f\"{col}: {round(pct, 3)}%\")"
   ]
  },
  {
   "cell_type": "code",
   "execution_count": 6,
   "id": "2e90cf6c-bb94-46f9-871e-67a15b5277f3",
   "metadata": {},
   "outputs": [],
   "source": [
    "# Convert columns to Strings\n",
    "string_cols = [\"ArrivalDateMonth\", \"Meal\", \"Country\", \"MarketSegment\",\n",
    "               \"DistributionChannel\", \"ReservedRoomType\", \"AssignedRoomType\",\n",
    "               \"DepositType\", \"Agent\", \"CustomerType\", \"ReservationStatus\", \"HotelType\"]\n",
    "for col in string_cols:\n",
    "    bookings_df[col] = bookings_df[col].astype(str)\n",
    "\n",
    "# Convert column to Datetime objects\n",
    "bookings_df[\"ReservationStatusDate\"] = pd.to_datetime(bookings_df[\"ReservationStatusDate\"])"
   ]
  },
  {
   "cell_type": "code",
   "execution_count": 7,
   "id": "f635df7f-4317-4e97-bfb9-1e85b9057d04",
   "metadata": {},
   "outputs": [],
   "source": [
    "# Based on the output above, it looks like the\n",
    "# `Company` column is useless due to the high \n",
    "# percentage of NaN values\n",
    "#bookings_df = bookings_df.drop(\"Company\", axis=1)\n",
    "\n",
    "# Replace NaN values in the `Agent` column\n",
    "# with the most common\n",
    "bookings_df[\"Agent\"] = bookings_df[\"Agent\"].replace(\"nan\", np.nan)\n",
    "\n",
    "mode_agent = bookings_df[\"Agent\"].mode().iloc[0]\n",
    "bookings_df[\"Agent\"] = bookings_df[\"Agent\"].fillna(mode_agent)"
   ]
  },
  {
   "cell_type": "code",
   "execution_count": 8,
   "id": "b8825d53-3733-4f47-8bb6-e9e6e4c311f0",
   "metadata": {},
   "outputs": [],
   "source": [
    "# create demographic features to focus on customer demographics and cancellation behavior \n",
    "\n",
    "# Create family demographic features\n",
    "bookings_df['FamilySize'] = bookings_df['Adults'] + bookings_df['Children'] + bookings_df['Babies']\n",
    "bookings_df['HasChildren'] = ((bookings_df['Children'] > 0) | (bookings_df['Babies'] > 0)).astype(int)\n",
    "\n",
    "# Create demographic segments\n",
    "conditions = [\n",
    "    (bookings_df['Adults'] == 1) & (bookings_df['Children'] == 0) & (bookings_df['Babies'] == 0),\n",
    "    (bookings_df['Adults'] == 2) & (bookings_df['Children'] == 0) & (bookings_df['Babies'] == 0),\n",
    "    (bookings_df['HasChildren'] == 1)\n",
    "]\n",
    "choices = ['Solo', 'Couple', 'Family']\n",
    "bookings_df['TravelerType'] = np.select(conditions, choices, default='Group')"
   ]
  },
  {
   "cell_type": "code",
   "execution_count": 9,
   "id": "668c0ad8",
   "metadata": {},
   "outputs": [],
   "source": [
    "# creates season based on arrival month for context\n",
    "season_map = {\n",
    "    'January': 'Winter', 'February': 'Winter', 'March': 'Spring',\n",
    "    'April': 'Spring', 'May': 'Spring', 'June': 'Summer',\n",
    "    'July': 'Summer', 'August': 'Summer', 'September': 'Fall',\n",
    "    'October': 'Fall', 'November': 'Fall', 'December': 'Winter'\n",
    "}\n",
    "bookings_df['Season'] = bookings_df['ArrivalDateMonth'].map(season_map)"
   ]
  },
  {
   "cell_type": "code",
   "execution_count": 10,
   "id": "bace01b4",
   "metadata": {},
   "outputs": [],
   "source": [
    "# creats business vs. leisure indication\n",
    "# assumes that if in city and duration is short, then for a business trip (assumption) -> else unknown\n",
    "conditions = [\n",
    "    (bookings_df['HotelType'] == 'City') & (bookings_df['StaysInWeekNights'] >= 2) & (bookings_df['StaysInWeekendNights'] <= 1),\n",
    "    (bookings_df['HotelType'] == 'Resort') | (bookings_df['StaysInWeekendNights'] >= 1)\n",
    "]\n",
    "choices = ['Business', 'Leisure']\n",
    "bookings_df['TravelPurpose'] = np.select(conditions, choices, default='Unknown')"
   ]
  },
  {
   "cell_type": "code",
   "execution_count": 11,
   "id": "eb887da7",
   "metadata": {},
   "outputs": [],
   "source": [
    "# for calculating total duration of time in hotel\n",
    "# create stay duration feature\n",
    "bookings_df['TotalStay'] = bookings_df['StaysInWeekendNights'] + bookings_df['StaysInWeekNights']"
   ]
  },
  {
   "cell_type": "code",
   "execution_count": 12,
   "id": "1521e79c",
   "metadata": {},
   "outputs": [
    {
     "name": "stdout",
     "output_type": "stream",
     "text": [
      "Country  HotelType\n",
      "ESP      City         4611\n",
      "         Resort       3957\n",
      "FRA      City         8804\n",
      "         Resort       1611\n",
      "ITA      City         3307\n",
      "         Resort        459\n",
      "Name: IsCanceled, dtype: int64\n",
      "Country  HotelType\n",
      "ESP      City         0.287573\n",
      "         Resort       0.215062\n",
      "FRA      City         0.195706\n",
      "         Resort       0.130975\n",
      "ITA      City         0.378893\n",
      "         Resort       0.174292\n",
      "Name: IsCanceled, dtype: float64\n"
     ]
    }
   ],
   "source": [
    "# checking distribution across countries and hotel types to make sure we dont have outliers in our data set skewing anythin \n",
    "print(bookings_df.groupby(['Country', 'HotelType'])['IsCanceled'].count())\n",
    "print(bookings_df.groupby(['Country', 'HotelType'])['IsCanceled'].mean())"
   ]
  },
  {
   "cell_type": "code",
   "execution_count": 19,
   "id": "5674e577",
   "metadata": {},
   "outputs": [
    {
     "data": {
      "application/vnd.plotly.v1+json": {
       "config": {
        "plotlyServerURL": "https://plot.ly"
       },
       "data": [
        {
         "hovertemplate": "Date: %{x}<br>Cancellation Rate: %{y:.1f}%<extra></extra>",
         "line": {
          "color": "red",
          "dash": "solid",
          "width": 2
         },
         "marker": {
          "size": 6
         },
         "mode": "lines+markers",
         "name": "New Guests (ESP)",
         "showlegend": true,
         "type": "scatter",
         "x": [
          "2015-07-01T00:00:00",
          "2015-08-01T00:00:00",
          "2015-09-01T00:00:00",
          "2015-10-01T00:00:00",
          "2015-11-01T00:00:00",
          "2015-12-01T00:00:00",
          "2016-01-01T00:00:00",
          "2016-02-01T00:00:00",
          "2016-03-01T00:00:00",
          "2016-04-01T00:00:00",
          "2016-05-01T00:00:00",
          "2016-06-01T00:00:00",
          "2016-07-01T00:00:00",
          "2016-08-01T00:00:00",
          "2016-09-01T00:00:00",
          "2016-10-01T00:00:00",
          "2016-11-01T00:00:00",
          "2016-12-01T00:00:00",
          "2017-01-01T00:00:00",
          "2017-02-01T00:00:00",
          "2017-03-01T00:00:00",
          "2017-04-01T00:00:00",
          "2017-05-01T00:00:00",
          "2017-06-01T00:00:00",
          "2017-07-01T00:00:00",
          "2017-08-01T00:00:00"
         ],
         "xaxis": "x",
         "y": [
          0,
          8.064516129032258,
          1.2779552715654952,
          18.064516129032256,
          0,
          7.511737089201878,
          13.414634146341465,
          12.987012987012985,
          19.482758620689655,
          33.07984790874524,
          30.481283422459892,
          34.97536945812808,
          38.74643874643874,
          35.17665130568356,
          31.800766283524908,
          28.030303030303028,
          26.74897119341564,
          38.4,
          22.22222222222222,
          17.52021563342318,
          28.735632183908045,
          40.14962593516209,
          31.216931216931215,
          42.18009478672986,
          39.00523560209424,
          41.77215189873418
         ],
         "yaxis": "y"
        },
        {
         "hovertemplate": "Date: %{x}<br>Cancellation Rate: %{y:.1f}%<extra></extra>",
         "line": {
          "color": "red",
          "dash": "dash",
          "width": 2
         },
         "marker": {
          "size": 6
         },
         "mode": "lines+markers",
         "name": "Repeated Guests (ESP)",
         "showlegend": true,
         "type": "scatter",
         "x": [
          "2015-08-01T00:00:00",
          "2015-09-01T00:00:00",
          "2015-10-01T00:00:00",
          "2015-12-01T00:00:00",
          "2016-01-01T00:00:00",
          "2016-02-01T00:00:00",
          "2016-03-01T00:00:00",
          "2016-04-01T00:00:00",
          "2016-05-01T00:00:00",
          "2016-06-01T00:00:00",
          "2016-07-01T00:00:00",
          "2016-08-01T00:00:00",
          "2016-09-01T00:00:00",
          "2016-10-01T00:00:00",
          "2016-11-01T00:00:00",
          "2016-12-01T00:00:00",
          "2017-01-01T00:00:00",
          "2017-02-01T00:00:00",
          "2017-03-01T00:00:00",
          "2017-04-01T00:00:00",
          "2017-05-01T00:00:00",
          "2017-06-01T00:00:00",
          "2017-07-01T00:00:00",
          "2017-08-01T00:00:00"
         ],
         "xaxis": "x",
         "y": [
          0,
          0,
          0,
          0,
          0,
          25,
          0,
          0,
          50,
          0,
          0,
          0,
          33.33333333333333,
          7.142857142857142,
          0,
          0,
          0,
          0,
          0,
          0,
          0,
          0,
          0,
          50
         ],
         "yaxis": "y"
        },
        {
         "hovertemplate": "Date: %{x}<br>Cancellation Rate: %{y:.1f}%<extra></extra>",
         "line": {
          "color": "blue",
          "dash": "solid",
          "width": 2
         },
         "marker": {
          "size": 6
         },
         "mode": "lines+markers",
         "showlegend": false,
         "type": "scatter",
         "x": [
          "2015-07-01T00:00:00",
          "2015-08-01T00:00:00",
          "2015-09-01T00:00:00",
          "2015-10-01T00:00:00",
          "2015-11-01T00:00:00",
          "2015-12-01T00:00:00",
          "2016-01-01T00:00:00",
          "2016-02-01T00:00:00",
          "2016-03-01T00:00:00",
          "2016-04-01T00:00:00",
          "2016-05-01T00:00:00",
          "2016-06-01T00:00:00",
          "2016-07-01T00:00:00",
          "2016-08-01T00:00:00",
          "2016-09-01T00:00:00",
          "2016-10-01T00:00:00",
          "2016-11-01T00:00:00",
          "2016-12-01T00:00:00",
          "2017-01-01T00:00:00",
          "2017-02-01T00:00:00",
          "2017-03-01T00:00:00",
          "2017-04-01T00:00:00",
          "2017-05-01T00:00:00",
          "2017-06-01T00:00:00",
          "2017-07-01T00:00:00",
          "2017-08-01T00:00:00"
         ],
         "xaxis": "x2",
         "y": [
          0,
          0.5555555555555556,
          7.41687979539642,
          0.3105590062111801,
          0.43859649122807015,
          3.535353535353535,
          7.246376811594203,
          10.031347962382444,
          13.750000000000002,
          16.374269005847953,
          13.754646840148698,
          13.577023498694519,
          21.882951653944023,
          26.368159203980102,
          21.428571428571427,
          23.91653290529695,
          8.75,
          20.140515222482435,
          24.63235294117647,
          22.77432712215321,
          16.0741885625966,
          26.763110307414106,
          24.833333333333332,
          28.235294117647058,
          28.96174863387978,
          34.990439770554495
         ],
         "yaxis": "y2"
        },
        {
         "hovertemplate": "Date: %{x}<br>Cancellation Rate: %{y:.1f}%<extra></extra>",
         "line": {
          "color": "blue",
          "dash": "dash",
          "width": 2
         },
         "marker": {
          "size": 6
         },
         "mode": "lines+markers",
         "showlegend": false,
         "type": "scatter",
         "x": [
          "2015-09-01T00:00:00",
          "2015-10-01T00:00:00",
          "2015-11-01T00:00:00",
          "2015-12-01T00:00:00",
          "2016-01-01T00:00:00",
          "2016-02-01T00:00:00",
          "2016-03-01T00:00:00",
          "2016-04-01T00:00:00",
          "2016-05-01T00:00:00",
          "2016-06-01T00:00:00",
          "2016-07-01T00:00:00",
          "2016-09-01T00:00:00",
          "2016-10-01T00:00:00",
          "2016-11-01T00:00:00",
          "2016-12-01T00:00:00",
          "2017-01-01T00:00:00",
          "2017-02-01T00:00:00",
          "2017-03-01T00:00:00",
          "2017-04-01T00:00:00",
          "2017-05-01T00:00:00",
          "2017-06-01T00:00:00",
          "2017-07-01T00:00:00",
          "2017-08-01T00:00:00"
         ],
         "xaxis": "x2",
         "y": [
          33.33333333333333,
          0,
          100,
          25,
          0,
          0,
          0,
          0,
          0,
          0,
          0,
          33.33333333333333,
          0,
          0,
          0,
          0,
          0,
          0,
          20,
          33.33333333333333,
          0,
          0,
          0
         ],
         "yaxis": "y2"
        },
        {
         "hovertemplate": "Date: %{x}<br>Cancellation Rate: %{y:.1f}%<extra></extra>",
         "line": {
          "color": "green",
          "dash": "solid",
          "width": 2
         },
         "marker": {
          "size": 6
         },
         "mode": "lines+markers",
         "showlegend": false,
         "type": "scatter",
         "x": [
          "2015-07-01T00:00:00",
          "2015-08-01T00:00:00",
          "2015-09-01T00:00:00",
          "2015-10-01T00:00:00",
          "2015-11-01T00:00:00",
          "2015-12-01T00:00:00",
          "2016-01-01T00:00:00",
          "2016-02-01T00:00:00",
          "2016-03-01T00:00:00",
          "2016-04-01T00:00:00",
          "2016-05-01T00:00:00",
          "2016-06-01T00:00:00",
          "2016-07-01T00:00:00",
          "2016-08-01T00:00:00",
          "2016-09-01T00:00:00",
          "2016-10-01T00:00:00",
          "2016-11-01T00:00:00",
          "2016-12-01T00:00:00",
          "2017-01-01T00:00:00",
          "2017-02-01T00:00:00",
          "2017-03-01T00:00:00",
          "2017-04-01T00:00:00",
          "2017-05-01T00:00:00",
          "2017-06-01T00:00:00",
          "2017-07-01T00:00:00",
          "2017-08-01T00:00:00"
         ],
         "xaxis": "x3",
         "y": [
          75.38461538461539,
          33.83838383838384,
          1.694915254237288,
          0,
          9.375,
          6.666666666666667,
          12.087912087912088,
          32.94117647058823,
          34.48275862068966,
          38.02083333333333,
          29.496402877697843,
          38.04347826086957,
          41.53846153846154,
          42.30769230769231,
          14.847161572052403,
          42,
          35.97560975609756,
          47.926267281105986,
          34.82587064676617,
          44.44444444444444,
          33.12101910828025,
          44.87804878048781,
          32.432432432432435,
          38.18181818181819,
          61.224489795918366,
          48.51485148514851
         ],
         "yaxis": "y3"
        },
        {
         "hovertemplate": "Date: %{x}<br>Cancellation Rate: %{y:.1f}%<extra></extra>",
         "line": {
          "color": "green",
          "dash": "dash",
          "width": 2
         },
         "marker": {
          "size": 6
         },
         "mode": "lines+markers",
         "showlegend": false,
         "type": "scatter",
         "x": [
          "2015-10-01T00:00:00",
          "2015-12-01T00:00:00",
          "2016-01-01T00:00:00",
          "2016-02-01T00:00:00",
          "2016-03-01T00:00:00",
          "2016-05-01T00:00:00",
          "2016-06-01T00:00:00",
          "2016-09-01T00:00:00",
          "2016-10-01T00:00:00",
          "2016-11-01T00:00:00",
          "2017-01-01T00:00:00",
          "2017-02-01T00:00:00",
          "2017-03-01T00:00:00",
          "2017-04-01T00:00:00",
          "2017-05-01T00:00:00",
          "2017-06-01T00:00:00",
          "2017-08-01T00:00:00"
         ],
         "xaxis": "x3",
         "y": [
          0,
          0,
          0,
          0,
          0,
          0,
          0,
          0,
          0,
          0,
          11.11111111111111,
          0,
          0,
          0,
          0,
          100,
          0
         ],
         "yaxis": "y3"
        }
       ],
       "layout": {
        "annotations": [
         {
          "font": {
           "size": 16
          },
          "showarrow": false,
          "text": "Spain (ESP)",
          "x": 0.5,
          "xanchor": "center",
          "xref": "paper",
          "y": 0.9999999999999999,
          "yanchor": "bottom",
          "yref": "paper"
         },
         {
          "font": {
           "size": 16
          },
          "showarrow": false,
          "text": "France (FRA)",
          "x": 0.5,
          "xanchor": "center",
          "xref": "paper",
          "y": 0.6166666666666666,
          "yanchor": "bottom",
          "yref": "paper"
         },
         {
          "font": {
           "size": 16
          },
          "showarrow": false,
          "text": "Italy (ITA)",
          "x": 0.5,
          "xanchor": "center",
          "xref": "paper",
          "y": 0.2333333333333333,
          "yanchor": "bottom",
          "yref": "paper"
         }
        ],
        "autosize": true,
        "hovermode": "x unified",
        "legend": {
         "bgcolor": "rgba(255, 255, 255, 0.8)",
         "font": {
          "size": 14
         },
         "orientation": "h",
         "x": 0.5,
         "xanchor": "center",
         "y": 1.12,
         "yanchor": "bottom"
        },
        "margin": {
         "b": 100,
         "l": 80,
         "r": 80,
         "t": 180
        },
        "template": {
         "data": {
          "bar": [
           {
            "error_x": {
             "color": "#2a3f5f"
            },
            "error_y": {
             "color": "#2a3f5f"
            },
            "marker": {
             "line": {
              "color": "white",
              "width": 0.5
             },
             "pattern": {
              "fillmode": "overlay",
              "size": 10,
              "solidity": 0.2
             }
            },
            "type": "bar"
           }
          ],
          "barpolar": [
           {
            "marker": {
             "line": {
              "color": "white",
              "width": 0.5
             },
             "pattern": {
              "fillmode": "overlay",
              "size": 10,
              "solidity": 0.2
             }
            },
            "type": "barpolar"
           }
          ],
          "carpet": [
           {
            "aaxis": {
             "endlinecolor": "#2a3f5f",
             "gridcolor": "#C8D4E3",
             "linecolor": "#C8D4E3",
             "minorgridcolor": "#C8D4E3",
             "startlinecolor": "#2a3f5f"
            },
            "baxis": {
             "endlinecolor": "#2a3f5f",
             "gridcolor": "#C8D4E3",
             "linecolor": "#C8D4E3",
             "minorgridcolor": "#C8D4E3",
             "startlinecolor": "#2a3f5f"
            },
            "type": "carpet"
           }
          ],
          "choropleth": [
           {
            "colorbar": {
             "outlinewidth": 0,
             "ticks": ""
            },
            "type": "choropleth"
           }
          ],
          "contour": [
           {
            "colorbar": {
             "outlinewidth": 0,
             "ticks": ""
            },
            "colorscale": [
             [
              0,
              "#0d0887"
             ],
             [
              0.1111111111111111,
              "#46039f"
             ],
             [
              0.2222222222222222,
              "#7201a8"
             ],
             [
              0.3333333333333333,
              "#9c179e"
             ],
             [
              0.4444444444444444,
              "#bd3786"
             ],
             [
              0.5555555555555556,
              "#d8576b"
             ],
             [
              0.6666666666666666,
              "#ed7953"
             ],
             [
              0.7777777777777778,
              "#fb9f3a"
             ],
             [
              0.8888888888888888,
              "#fdca26"
             ],
             [
              1,
              "#f0f921"
             ]
            ],
            "type": "contour"
           }
          ],
          "contourcarpet": [
           {
            "colorbar": {
             "outlinewidth": 0,
             "ticks": ""
            },
            "type": "contourcarpet"
           }
          ],
          "heatmap": [
           {
            "colorbar": {
             "outlinewidth": 0,
             "ticks": ""
            },
            "colorscale": [
             [
              0,
              "#0d0887"
             ],
             [
              0.1111111111111111,
              "#46039f"
             ],
             [
              0.2222222222222222,
              "#7201a8"
             ],
             [
              0.3333333333333333,
              "#9c179e"
             ],
             [
              0.4444444444444444,
              "#bd3786"
             ],
             [
              0.5555555555555556,
              "#d8576b"
             ],
             [
              0.6666666666666666,
              "#ed7953"
             ],
             [
              0.7777777777777778,
              "#fb9f3a"
             ],
             [
              0.8888888888888888,
              "#fdca26"
             ],
             [
              1,
              "#f0f921"
             ]
            ],
            "type": "heatmap"
           }
          ],
          "heatmapgl": [
           {
            "colorbar": {
             "outlinewidth": 0,
             "ticks": ""
            },
            "colorscale": [
             [
              0,
              "#0d0887"
             ],
             [
              0.1111111111111111,
              "#46039f"
             ],
             [
              0.2222222222222222,
              "#7201a8"
             ],
             [
              0.3333333333333333,
              "#9c179e"
             ],
             [
              0.4444444444444444,
              "#bd3786"
             ],
             [
              0.5555555555555556,
              "#d8576b"
             ],
             [
              0.6666666666666666,
              "#ed7953"
             ],
             [
              0.7777777777777778,
              "#fb9f3a"
             ],
             [
              0.8888888888888888,
              "#fdca26"
             ],
             [
              1,
              "#f0f921"
             ]
            ],
            "type": "heatmapgl"
           }
          ],
          "histogram": [
           {
            "marker": {
             "pattern": {
              "fillmode": "overlay",
              "size": 10,
              "solidity": 0.2
             }
            },
            "type": "histogram"
           }
          ],
          "histogram2d": [
           {
            "colorbar": {
             "outlinewidth": 0,
             "ticks": ""
            },
            "colorscale": [
             [
              0,
              "#0d0887"
             ],
             [
              0.1111111111111111,
              "#46039f"
             ],
             [
              0.2222222222222222,
              "#7201a8"
             ],
             [
              0.3333333333333333,
              "#9c179e"
             ],
             [
              0.4444444444444444,
              "#bd3786"
             ],
             [
              0.5555555555555556,
              "#d8576b"
             ],
             [
              0.6666666666666666,
              "#ed7953"
             ],
             [
              0.7777777777777778,
              "#fb9f3a"
             ],
             [
              0.8888888888888888,
              "#fdca26"
             ],
             [
              1,
              "#f0f921"
             ]
            ],
            "type": "histogram2d"
           }
          ],
          "histogram2dcontour": [
           {
            "colorbar": {
             "outlinewidth": 0,
             "ticks": ""
            },
            "colorscale": [
             [
              0,
              "#0d0887"
             ],
             [
              0.1111111111111111,
              "#46039f"
             ],
             [
              0.2222222222222222,
              "#7201a8"
             ],
             [
              0.3333333333333333,
              "#9c179e"
             ],
             [
              0.4444444444444444,
              "#bd3786"
             ],
             [
              0.5555555555555556,
              "#d8576b"
             ],
             [
              0.6666666666666666,
              "#ed7953"
             ],
             [
              0.7777777777777778,
              "#fb9f3a"
             ],
             [
              0.8888888888888888,
              "#fdca26"
             ],
             [
              1,
              "#f0f921"
             ]
            ],
            "type": "histogram2dcontour"
           }
          ],
          "mesh3d": [
           {
            "colorbar": {
             "outlinewidth": 0,
             "ticks": ""
            },
            "type": "mesh3d"
           }
          ],
          "parcoords": [
           {
            "line": {
             "colorbar": {
              "outlinewidth": 0,
              "ticks": ""
             }
            },
            "type": "parcoords"
           }
          ],
          "pie": [
           {
            "automargin": true,
            "type": "pie"
           }
          ],
          "scatter": [
           {
            "fillpattern": {
             "fillmode": "overlay",
             "size": 10,
             "solidity": 0.2
            },
            "type": "scatter"
           }
          ],
          "scatter3d": [
           {
            "line": {
             "colorbar": {
              "outlinewidth": 0,
              "ticks": ""
             }
            },
            "marker": {
             "colorbar": {
              "outlinewidth": 0,
              "ticks": ""
             }
            },
            "type": "scatter3d"
           }
          ],
          "scattercarpet": [
           {
            "marker": {
             "colorbar": {
              "outlinewidth": 0,
              "ticks": ""
             }
            },
            "type": "scattercarpet"
           }
          ],
          "scattergeo": [
           {
            "marker": {
             "colorbar": {
              "outlinewidth": 0,
              "ticks": ""
             }
            },
            "type": "scattergeo"
           }
          ],
          "scattergl": [
           {
            "marker": {
             "colorbar": {
              "outlinewidth": 0,
              "ticks": ""
             }
            },
            "type": "scattergl"
           }
          ],
          "scattermapbox": [
           {
            "marker": {
             "colorbar": {
              "outlinewidth": 0,
              "ticks": ""
             }
            },
            "type": "scattermapbox"
           }
          ],
          "scatterpolar": [
           {
            "marker": {
             "colorbar": {
              "outlinewidth": 0,
              "ticks": ""
             }
            },
            "type": "scatterpolar"
           }
          ],
          "scatterpolargl": [
           {
            "marker": {
             "colorbar": {
              "outlinewidth": 0,
              "ticks": ""
             }
            },
            "type": "scatterpolargl"
           }
          ],
          "scatterternary": [
           {
            "marker": {
             "colorbar": {
              "outlinewidth": 0,
              "ticks": ""
             }
            },
            "type": "scatterternary"
           }
          ],
          "surface": [
           {
            "colorbar": {
             "outlinewidth": 0,
             "ticks": ""
            },
            "colorscale": [
             [
              0,
              "#0d0887"
             ],
             [
              0.1111111111111111,
              "#46039f"
             ],
             [
              0.2222222222222222,
              "#7201a8"
             ],
             [
              0.3333333333333333,
              "#9c179e"
             ],
             [
              0.4444444444444444,
              "#bd3786"
             ],
             [
              0.5555555555555556,
              "#d8576b"
             ],
             [
              0.6666666666666666,
              "#ed7953"
             ],
             [
              0.7777777777777778,
              "#fb9f3a"
             ],
             [
              0.8888888888888888,
              "#fdca26"
             ],
             [
              1,
              "#f0f921"
             ]
            ],
            "type": "surface"
           }
          ],
          "table": [
           {
            "cells": {
             "fill": {
              "color": "#EBF0F8"
             },
             "line": {
              "color": "white"
             }
            },
            "header": {
             "fill": {
              "color": "#C8D4E3"
             },
             "line": {
              "color": "white"
             }
            },
            "type": "table"
           }
          ]
         },
         "layout": {
          "annotationdefaults": {
           "arrowcolor": "#2a3f5f",
           "arrowhead": 0,
           "arrowwidth": 1
          },
          "autotypenumbers": "strict",
          "coloraxis": {
           "colorbar": {
            "outlinewidth": 0,
            "ticks": ""
           }
          },
          "colorscale": {
           "diverging": [
            [
             0,
             "#8e0152"
            ],
            [
             0.1,
             "#c51b7d"
            ],
            [
             0.2,
             "#de77ae"
            ],
            [
             0.3,
             "#f1b6da"
            ],
            [
             0.4,
             "#fde0ef"
            ],
            [
             0.5,
             "#f7f7f7"
            ],
            [
             0.6,
             "#e6f5d0"
            ],
            [
             0.7,
             "#b8e186"
            ],
            [
             0.8,
             "#7fbc41"
            ],
            [
             0.9,
             "#4d9221"
            ],
            [
             1,
             "#276419"
            ]
           ],
           "sequential": [
            [
             0,
             "#0d0887"
            ],
            [
             0.1111111111111111,
             "#46039f"
            ],
            [
             0.2222222222222222,
             "#7201a8"
            ],
            [
             0.3333333333333333,
             "#9c179e"
            ],
            [
             0.4444444444444444,
             "#bd3786"
            ],
            [
             0.5555555555555556,
             "#d8576b"
            ],
            [
             0.6666666666666666,
             "#ed7953"
            ],
            [
             0.7777777777777778,
             "#fb9f3a"
            ],
            [
             0.8888888888888888,
             "#fdca26"
            ],
            [
             1,
             "#f0f921"
            ]
           ],
           "sequentialminus": [
            [
             0,
             "#0d0887"
            ],
            [
             0.1111111111111111,
             "#46039f"
            ],
            [
             0.2222222222222222,
             "#7201a8"
            ],
            [
             0.3333333333333333,
             "#9c179e"
            ],
            [
             0.4444444444444444,
             "#bd3786"
            ],
            [
             0.5555555555555556,
             "#d8576b"
            ],
            [
             0.6666666666666666,
             "#ed7953"
            ],
            [
             0.7777777777777778,
             "#fb9f3a"
            ],
            [
             0.8888888888888888,
             "#fdca26"
            ],
            [
             1,
             "#f0f921"
            ]
           ]
          },
          "colorway": [
           "#636efa",
           "#EF553B",
           "#00cc96",
           "#ab63fa",
           "#FFA15A",
           "#19d3f3",
           "#FF6692",
           "#B6E880",
           "#FF97FF",
           "#FECB52"
          ],
          "font": {
           "color": "#2a3f5f"
          },
          "geo": {
           "bgcolor": "white",
           "lakecolor": "white",
           "landcolor": "white",
           "showlakes": true,
           "showland": true,
           "subunitcolor": "#C8D4E3"
          },
          "hoverlabel": {
           "align": "left"
          },
          "hovermode": "closest",
          "mapbox": {
           "style": "light"
          },
          "paper_bgcolor": "white",
          "plot_bgcolor": "white",
          "polar": {
           "angularaxis": {
            "gridcolor": "#EBF0F8",
            "linecolor": "#EBF0F8",
            "ticks": ""
           },
           "bgcolor": "white",
           "radialaxis": {
            "gridcolor": "#EBF0F8",
            "linecolor": "#EBF0F8",
            "ticks": ""
           }
          },
          "scene": {
           "xaxis": {
            "backgroundcolor": "white",
            "gridcolor": "#DFE8F3",
            "gridwidth": 2,
            "linecolor": "#EBF0F8",
            "showbackground": true,
            "ticks": "",
            "zerolinecolor": "#EBF0F8"
           },
           "yaxis": {
            "backgroundcolor": "white",
            "gridcolor": "#DFE8F3",
            "gridwidth": 2,
            "linecolor": "#EBF0F8",
            "showbackground": true,
            "ticks": "",
            "zerolinecolor": "#EBF0F8"
           },
           "zaxis": {
            "backgroundcolor": "white",
            "gridcolor": "#DFE8F3",
            "gridwidth": 2,
            "linecolor": "#EBF0F8",
            "showbackground": true,
            "ticks": "",
            "zerolinecolor": "#EBF0F8"
           }
          },
          "shapedefaults": {
           "line": {
            "color": "#2a3f5f"
           }
          },
          "ternary": {
           "aaxis": {
            "gridcolor": "#DFE8F3",
            "linecolor": "#A2B1C6",
            "ticks": ""
           },
           "baxis": {
            "gridcolor": "#DFE8F3",
            "linecolor": "#A2B1C6",
            "ticks": ""
           },
           "bgcolor": "white",
           "caxis": {
            "gridcolor": "#DFE8F3",
            "linecolor": "#A2B1C6",
            "ticks": ""
           }
          },
          "title": {
           "x": 0.05
          },
          "xaxis": {
           "automargin": true,
           "gridcolor": "#EBF0F8",
           "linecolor": "#EBF0F8",
           "ticks": "",
           "title": {
            "standoff": 15
           },
           "zerolinecolor": "#EBF0F8",
           "zerolinewidth": 2
          },
          "yaxis": {
           "automargin": true,
           "gridcolor": "#EBF0F8",
           "linecolor": "#EBF0F8",
           "ticks": "",
           "title": {
            "standoff": 15
           },
           "zerolinecolor": "#EBF0F8",
           "zerolinewidth": 2
          }
         }
        },
        "title": {
         "font": {
          "size": 20
         },
         "text": "Hotel Booking Cancellation Rates: New vs Repeated Guests by Country",
         "x": 0.5,
         "xanchor": "center",
         "y": 0.97
        },
        "xaxis": {
         "anchor": "y",
         "autorange": true,
         "domain": [
          0,
          1
         ],
         "matches": "x3",
         "range": [
          "2015-05-13 18:48:37.6209",
          "2017-09-18 05:11:22.3791"
         ],
         "showticklabels": false,
         "type": "date"
        },
        "xaxis2": {
         "anchor": "y2",
         "autorange": true,
         "domain": [
          0,
          1
         ],
         "matches": "x3",
         "range": [
          "2015-05-13 18:48:37.6209",
          "2017-09-18 05:11:22.3791"
         ],
         "showticklabels": false,
         "type": "date"
        },
        "xaxis3": {
         "anchor": "y3",
         "autorange": true,
         "domain": [
          0,
          1
         ],
         "range": [
          "2015-05-13 18:48:37.6209",
          "2017-09-18 05:11:22.3791"
         ],
         "rangeselector": {
          "bgcolor": "rgba(150, 200, 250, 0.4)",
          "buttons": [
           {
            "count": 3,
            "label": "3m",
            "step": "month",
            "stepmode": "backward"
           },
           {
            "count": 6,
            "label": "6m",
            "step": "month",
            "stepmode": "backward"
           },
           {
            "count": 1,
            "label": "1y",
            "step": "year",
            "stepmode": "backward"
           },
           {
            "label": "All",
            "step": "all"
           }
          ],
          "font": {
           "size": 12
          },
          "x": 0.05,
          "y": 1.1
         },
         "rangeslider": {
          "autorange": true,
          "range": [
           "2015-05-13 18:48:37.6209",
           "2017-09-18 05:11:22.3791"
          ],
          "visible": true,
          "yaxis3": {
           "_template": null,
           "rangemode": "match"
          }
         },
         "title": {
          "text": "Date"
         },
         "type": "date"
        },
        "yaxis": {
         "anchor": "x",
         "domain": [
          0.7666666666666666,
          0.9999999999999999
         ],
         "range": [
          0,
          100
         ],
         "title": {
          "text": "Cancellation Rate (%)"
         },
         "type": "linear"
        },
        "yaxis2": {
         "anchor": "x2",
         "domain": [
          0.3833333333333333,
          0.6166666666666666
         ],
         "range": [
          0,
          100
         ],
         "title": {
          "text": "Cancellation Rate (%)"
         },
         "type": "linear"
        },
        "yaxis3": {
         "anchor": "x3",
         "domain": [
          0,
          0.2333333333333333
         ],
         "range": [
          0,
          100
         ],
         "title": {
          "text": "Cancellation Rate (%)"
         },
         "type": "linear"
        }
       }
      },
      "image/png": "[encoded data removed]",
      "text/html": [
       "<div>                            <div id=\"5857140c-273f-4d4c-8460-8a0178a28a78\" class=\"plotly-graph-div\" style=\"height:900px; width:100%;\"></div>            <script type=\"text/javascript\">                require([\"plotly\"], function(Plotly) {                    window.PLOTLYENV=window.PLOTLYENV || {};                                    if (document.getElementById(\"5857140c-273f-4d4c-8460-8a0178a28a78\")) {                    Plotly.newPlot(                        \"5857140c-273f-4d4c-8460-8a0178a28a78\",                        [{\"hovertemplate\":\"Date: %{x}\\u003cbr\\u003eCancellation Rate: %{y:.1f}%\\u003cextra\\u003e\\u003c\\u002fextra\\u003e\",\"line\":{\"color\":\"red\",\"dash\":\"solid\",\"width\":2},\"marker\":{\"size\":6},\"mode\":\"lines+markers\",\"name\":\"New Guests (ESP)\",\"showlegend\":true,\"x\":[\"2015-07-01T00:00:00\",\"2015-08-01T00:00:00\",\"2015-09-01T00:00:00\",\"2015-10-01T00:00:00\",\"2015-11-01T00:00:00\",\"2015-12-01T00:00:00\",\"2016-01-01T00:00:00\",\"2016-02-01T00:00:00\",\"2016-03-01T00:00:00\",\"2016-04-01T00:00:00\",\"2016-05-01T00:00:00\",\"2016-06-01T00:00:00\",\"2016-07-01T00:00:00\",\"2016-08-01T00:00:00\",\"2016-09-01T00:00:00\",\"2016-10-01T00:00:00\",\"2016-11-01T00:00:00\",\"2016-12-01T00:00:00\",\"2017-01-01T00:00:00\",\"2017-02-01T00:00:00\",\"2017-03-01T00:00:00\",\"2017-04-01T00:00:00\",\"2017-05-01T00:00:00\",\"2017-06-01T00:00:00\",\"2017-07-01T00:00:00\",\"2017-08-01T00:00:00\"],\"y\":[0.0,8.064516129032258,1.2779552715654952,18.064516129032256,0.0,7.511737089201878,13.414634146341465,12.987012987012985,19.482758620689655,33.07984790874524,30.481283422459892,34.97536945812808,38.74643874643874,35.17665130568356,31.800766283524908,28.030303030303028,26.74897119341564,38.4,22.22222222222222,17.52021563342318,28.735632183908045,40.14962593516209,31.216931216931215,42.18009478672986,39.00523560209424,41.77215189873418],\"type\":\"scatter\",\"xaxis\":\"x\",\"yaxis\":\"y\"},{\"hovertemplate\":\"Date: %{x}\\u003cbr\\u003eCancellation Rate: %{y:.1f}%\\u003cextra\\u003e\\u003c\\u002fextra\\u003e\",\"line\":{\"color\":\"red\",\"dash\":\"dash\",\"width\":2},\"marker\":{\"size\":6},\"mode\":\"lines+markers\",\"name\":\"Repeated Guests (ESP)\",\"showlegend\":true,\"x\":[\"2015-08-01T00:00:00\",\"2015-09-01T00:00:00\",\"2015-10-01T00:00:00\",\"2015-12-01T00:00:00\",\"2016-01-01T00:00:00\",\"2016-02-01T00:00:00\",\"2016-03-01T00:00:00\",\"2016-04-01T00:00:00\",\"2016-05-01T00:00:00\",\"2016-06-01T00:00:00\",\"2016-07-01T00:00:00\",\"2016-08-01T00:00:00\",\"2016-09-01T00:00:00\",\"2016-10-01T00:00:00\",\"2016-11-01T00:00:00\",\"2016-12-01T00:00:00\",\"2017-01-01T00:00:00\",\"2017-02-01T00:00:00\",\"2017-03-01T00:00:00\",\"2017-04-01T00:00:00\",\"2017-05-01T00:00:00\",\"2017-06-01T00:00:00\",\"2017-07-01T00:00:00\",\"2017-08-01T00:00:00\"],\"y\":[0.0,0.0,0.0,0.0,0.0,25.0,0.0,0.0,50.0,0.0,0.0,0.0,33.33333333333333,7.142857142857142,0.0,0.0,0.0,0.0,0.0,0.0,0.0,0.0,0.0,50.0],\"type\":\"scatter\",\"xaxis\":\"x\",\"yaxis\":\"y\"},{\"hovertemplate\":\"Date: %{x}\\u003cbr\\u003eCancellation Rate: %{y:.1f}%\\u003cextra\\u003e\\u003c\\u002fextra\\u003e\",\"line\":{\"color\":\"blue\",\"dash\":\"solid\",\"width\":2},\"marker\":{\"size\":6},\"mode\":\"lines+markers\",\"showlegend\":false,\"x\":[\"2015-07-01T00:00:00\",\"2015-08-01T00:00:00\",\"2015-09-01T00:00:00\",\"2015-10-01T00:00:00\",\"2015-11-01T00:00:00\",\"2015-12-01T00:00:00\",\"2016-01-01T00:00:00\",\"2016-02-01T00:00:00\",\"2016-03-01T00:00:00\",\"2016-04-01T00:00:00\",\"2016-05-01T00:00:00\",\"2016-06-01T00:00:00\",\"2016-07-01T00:00:00\",\"2016-08-01T00:00:00\",\"2016-09-01T00:00:00\",\"2016-10-01T00:00:00\",\"2016-11-01T00:00:00\",\"2016-12-01T00:00:00\",\"2017-01-01T00:00:00\",\"2017-02-01T00:00:00\",\"2017-03-01T00:00:00\",\"2017-04-01T00:00:00\",\"2017-05-01T00:00:00\",\"2017-06-01T00:00:00\",\"2017-07-01T00:00:00\",\"2017-08-01T00:00:00\"],\"y\":[0.0,0.5555555555555556,7.41687979539642,0.3105590062111801,0.43859649122807015,3.535353535353535,7.246376811594203,10.031347962382444,13.750000000000002,16.374269005847953,13.754646840148698,13.577023498694519,21.882951653944023,26.368159203980102,21.428571428571427,23.91653290529695,8.75,20.140515222482435,24.63235294117647,22.77432712215321,16.0741885625966,26.763110307414106,24.833333333333332,28.235294117647058,28.96174863387978,34.990439770554495],\"type\":\"scatter\",\"xaxis\":\"x2\",\"yaxis\":\"y2\"},{\"hovertemplate\":\"Date: %{x}\\u003cbr\\u003eCancellation Rate: %{y:.1f}%\\u003cextra\\u003e\\u003c\\u002fextra\\u003e\",\"line\":{\"color\":\"blue\",\"dash\":\"dash\",\"width\":2},\"marker\":{\"size\":6},\"mode\":\"lines+markers\",\"showlegend\":false,\"x\":[\"2015-09-01T00:00:00\",\"2015-10-01T00:00:00\",\"2015-11-01T00:00:00\",\"2015-12-01T00:00:00\",\"2016-01-01T00:00:00\",\"2016-02-01T00:00:00\",\"2016-03-01T00:00:00\",\"2016-04-01T00:00:00\",\"2016-05-01T00:00:00\",\"2016-06-01T00:00:00\",\"2016-07-01T00:00:00\",\"2016-09-01T00:00:00\",\"2016-10-01T00:00:00\",\"2016-11-01T00:00:00\",\"2016-12-01T00:00:00\",\"2017-01-01T00:00:00\",\"2017-02-01T00:00:00\",\"2017-03-01T00:00:00\",\"2017-04-01T00:00:00\",\"2017-05-01T00:00:00\",\"2017-06-01T00:00:00\",\"2017-07-01T00:00:00\",\"2017-08-01T00:00:00\"],\"y\":[33.33333333333333,0.0,100.0,25.0,0.0,0.0,0.0,0.0,0.0,0.0,0.0,33.33333333333333,0.0,0.0,0.0,0.0,0.0,0.0,20.0,33.33333333333333,0.0,0.0,0.0],\"type\":\"scatter\",\"xaxis\":\"x2\",\"yaxis\":\"y2\"},{\"hovertemplate\":\"Date: %{x}\\u003cbr\\u003eCancellation Rate: %{y:.1f}%\\u003cextra\\u003e\\u003c\\u002fextra\\u003e\",\"line\":{\"color\":\"green\",\"dash\":\"solid\",\"width\":2},\"marker\":{\"size\":6},\"mode\":\"lines+markers\",\"showlegend\":false,\"x\":[\"2015-07-01T00:00:00\",\"2015-08-01T00:00:00\",\"2015-09-01T00:00:00\",\"2015-10-01T00:00:00\",\"2015-11-01T00:00:00\",\"2015-12-01T00:00:00\",\"2016-01-01T00:00:00\",\"2016-02-01T00:00:00\",\"2016-03-01T00:00:00\",\"2016-04-01T00:00:00\",\"2016-05-01T00:00:00\",\"2016-06-01T00:00:00\",\"2016-07-01T00:00:00\",\"2016-08-01T00:00:00\",\"2016-09-01T00:00:00\",\"2016-10-01T00:00:00\",\"2016-11-01T00:00:00\",\"2016-12-01T00:00:00\",\"2017-01-01T00:00:00\",\"2017-02-01T00:00:00\",\"2017-03-01T00:00:00\",\"2017-04-01T00:00:00\",\"2017-05-01T00:00:00\",\"2017-06-01T00:00:00\",\"2017-07-01T00:00:00\",\"2017-08-01T00:00:00\"],\"y\":[75.38461538461539,33.83838383838384,1.694915254237288,0.0,9.375,6.666666666666667,12.087912087912088,32.94117647058823,34.48275862068966,38.02083333333333,29.496402877697843,38.04347826086957,41.53846153846154,42.30769230769231,14.847161572052403,42.0,35.97560975609756,47.926267281105986,34.82587064676617,44.44444444444444,33.12101910828025,44.87804878048781,32.432432432432435,38.18181818181819,61.224489795918366,48.51485148514851],\"type\":\"scatter\",\"xaxis\":\"x3\",\"yaxis\":\"y3\"},{\"hovertemplate\":\"Date: %{x}\\u003cbr\\u003eCancellation Rate: %{y:.1f}%\\u003cextra\\u003e\\u003c\\u002fextra\\u003e\",\"line\":{\"color\":\"green\",\"dash\":\"dash\",\"width\":2},\"marker\":{\"size\":6},\"mode\":\"lines+markers\",\"showlegend\":false,\"x\":[\"2015-10-01T00:00:00\",\"2015-12-01T00:00:00\",\"2016-01-01T00:00:00\",\"2016-02-01T00:00:00\",\"2016-03-01T00:00:00\",\"2016-05-01T00:00:00\",\"2016-06-01T00:00:00\",\"2016-09-01T00:00:00\",\"2016-10-01T00:00:00\",\"2016-11-01T00:00:00\",\"2017-01-01T00:00:00\",\"2017-02-01T00:00:00\",\"2017-03-01T00:00:00\",\"2017-04-01T00:00:00\",\"2017-05-01T00:00:00\",\"2017-06-01T00:00:00\",\"2017-08-01T00:00:00\"],\"y\":[0.0,0.0,0.0,0.0,0.0,0.0,0.0,0.0,0.0,0.0,11.11111111111111,0.0,0.0,0.0,0.0,100.0,0.0],\"type\":\"scatter\",\"xaxis\":\"x3\",\"yaxis\":\"y3\"}],                        {\"template\":{\"data\":{\"barpolar\":[{\"marker\":{\"line\":{\"color\":\"white\",\"width\":0.5},\"pattern\":{\"fillmode\":\"overlay\",\"size\":10,\"solidity\":0.2}},\"type\":\"barpolar\"}],\"bar\":[{\"error_x\":{\"color\":\"#2a3f5f\"},\"error_y\":{\"color\":\"#2a3f5f\"},\"marker\":{\"line\":{\"color\":\"white\",\"width\":0.5},\"pattern\":{\"fillmode\":\"overlay\",\"size\":10,\"solidity\":0.2}},\"type\":\"bar\"}],\"carpet\":[{\"aaxis\":{\"endlinecolor\":\"#2a3f5f\",\"gridcolor\":\"#C8D4E3\",\"linecolor\":\"#C8D4E3\",\"minorgridcolor\":\"#C8D4E3\",\"startlinecolor\":\"#2a3f5f\"},\"baxis\":{\"endlinecolor\":\"#2a3f5f\",\"gridcolor\":\"#C8D4E3\",\"linecolor\":\"#C8D4E3\",\"minorgridcolor\":\"#C8D4E3\",\"startlinecolor\":\"#2a3f5f\"},\"type\":\"carpet\"}],\"choropleth\":[{\"colorbar\":{\"outlinewidth\":0,\"ticks\":\"\"},\"type\":\"choropleth\"}],\"contourcarpet\":[{\"colorbar\":{\"outlinewidth\":0,\"ticks\":\"\"},\"type\":\"contourcarpet\"}],\"contour\":[{\"colorbar\":{\"outlinewidth\":0,\"ticks\":\"\"},\"colorscale\":[[0.0,\"#0d0887\"],[0.1111111111111111,\"#46039f\"],[0.2222222222222222,\"#7201a8\"],[0.3333333333333333,\"#9c179e\"],[0.4444444444444444,\"#bd3786\"],[0.5555555555555556,\"#d8576b\"],[0.6666666666666666,\"#ed7953\"],[0.7777777777777778,\"#fb9f3a\"],[0.8888888888888888,\"#fdca26\"],[1.0,\"#f0f921\"]],\"type\":\"contour\"}],\"heatmapgl\":[{\"colorbar\":{\"outlinewidth\":0,\"ticks\":\"\"},\"colorscale\":[[0.0,\"#0d0887\"],[0.1111111111111111,\"#46039f\"],[0.2222222222222222,\"#7201a8\"],[0.3333333333333333,\"#9c179e\"],[0.4444444444444444,\"#bd3786\"],[0.5555555555555556,\"#d8576b\"],[0.6666666666666666,\"#ed7953\"],[0.7777777777777778,\"#fb9f3a\"],[0.8888888888888888,\"#fdca26\"],[1.0,\"#f0f921\"]],\"type\":\"heatmapgl\"}],\"heatmap\":[{\"colorbar\":{\"outlinewidth\":0,\"ticks\":\"\"},\"colorscale\":[[0.0,\"#0d0887\"],[0.1111111111111111,\"#46039f\"],[0.2222222222222222,\"#7201a8\"],[0.3333333333333333,\"#9c179e\"],[0.4444444444444444,\"#bd3786\"],[0.5555555555555556,\"#d8576b\"],[0.6666666666666666,\"#ed7953\"],[0.7777777777777778,\"#fb9f3a\"],[0.8888888888888888,\"#fdca26\"],[1.0,\"#f0f921\"]],\"type\":\"heatmap\"}],\"histogram2dcontour\":[{\"colorbar\":{\"outlinewidth\":0,\"ticks\":\"\"},\"colorscale\":[[0.0,\"#0d0887\"],[0.1111111111111111,\"#46039f\"],[0.2222222222222222,\"#7201a8\"],[0.3333333333333333,\"#9c179e\"],[0.4444444444444444,\"#bd3786\"],[0.5555555555555556,\"#d8576b\"],[0.6666666666666666,\"#ed7953\"],[0.7777777777777778,\"#fb9f3a\"],[0.8888888888888888,\"#fdca26\"],[1.0,\"#f0f921\"]],\"type\":\"histogram2dcontour\"}],\"histogram2d\":[{\"colorbar\":{\"outlinewidth\":0,\"ticks\":\"\"},\"colorscale\":[[0.0,\"#0d0887\"],[0.1111111111111111,\"#46039f\"],[0.2222222222222222,\"#7201a8\"],[0.3333333333333333,\"#9c179e\"],[0.4444444444444444,\"#bd3786\"],[0.5555555555555556,\"#d8576b\"],[0.6666666666666666,\"#ed7953\"],[0.7777777777777778,\"#fb9f3a\"],[0.8888888888888888,\"#fdca26\"],[1.0,\"#f0f921\"]],\"type\":\"histogram2d\"}],\"histogram\":[{\"marker\":{\"pattern\":{\"fillmode\":\"overlay\",\"size\":10,\"solidity\":0.2}},\"type\":\"histogram\"}],\"mesh3d\":[{\"colorbar\":{\"outlinewidth\":0,\"ticks\":\"\"},\"type\":\"mesh3d\"}],\"parcoords\":[{\"line\":{\"colorbar\":{\"outlinewidth\":0,\"ticks\":\"\"}},\"type\":\"parcoords\"}],\"pie\":[{\"automargin\":true,\"type\":\"pie\"}],\"scatter3d\":[{\"line\":{\"colorbar\":{\"outlinewidth\":0,\"ticks\":\"\"}},\"marker\":{\"colorbar\":{\"outlinewidth\":0,\"ticks\":\"\"}},\"type\":\"scatter3d\"}],\"scattercarpet\":[{\"marker\":{\"colorbar\":{\"outlinewidth\":0,\"ticks\":\"\"}},\"type\":\"scattercarpet\"}],\"scattergeo\":[{\"marker\":{\"colorbar\":{\"outlinewidth\":0,\"ticks\":\"\"}},\"type\":\"scattergeo\"}],\"scattergl\":[{\"marker\":{\"colorbar\":{\"outlinewidth\":0,\"ticks\":\"\"}},\"type\":\"scattergl\"}],\"scattermapbox\":[{\"marker\":{\"colorbar\":{\"outlinewidth\":0,\"ticks\":\"\"}},\"type\":\"scattermapbox\"}],\"scatterpolargl\":[{\"marker\":{\"colorbar\":{\"outlinewidth\":0,\"ticks\":\"\"}},\"type\":\"scatterpolargl\"}],\"scatterpolar\":[{\"marker\":{\"colorbar\":{\"outlinewidth\":0,\"ticks\":\"\"}},\"type\":\"scatterpolar\"}],\"scatter\":[{\"fillpattern\":{\"fillmode\":\"overlay\",\"size\":10,\"solidity\":0.2},\"type\":\"scatter\"}],\"scatterternary\":[{\"marker\":{\"colorbar\":{\"outlinewidth\":0,\"ticks\":\"\"}},\"type\":\"scatterternary\"}],\"surface\":[{\"colorbar\":{\"outlinewidth\":0,\"ticks\":\"\"},\"colorscale\":[[0.0,\"#0d0887\"],[0.1111111111111111,\"#46039f\"],[0.2222222222222222,\"#7201a8\"],[0.3333333333333333,\"#9c179e\"],[0.4444444444444444,\"#bd3786\"],[0.5555555555555556,\"#d8576b\"],[0.6666666666666666,\"#ed7953\"],[0.7777777777777778,\"#fb9f3a\"],[0.8888888888888888,\"#fdca26\"],[1.0,\"#f0f921\"]],\"type\":\"surface\"}],\"table\":[{\"cells\":{\"fill\":{\"color\":\"#EBF0F8\"},\"line\":{\"color\":\"white\"}},\"header\":{\"fill\":{\"color\":\"#C8D4E3\"},\"line\":{\"color\":\"white\"}},\"type\":\"table\"}]},\"layout\":{\"annotationdefaults\":{\"arrowcolor\":\"#2a3f5f\",\"arrowhead\":0,\"arrowwidth\":1},\"autotypenumbers\":\"strict\",\"coloraxis\":{\"colorbar\":{\"outlinewidth\":0,\"ticks\":\"\"}},\"colorscale\":{\"diverging\":[[0,\"#8e0152\"],[0.1,\"#c51b7d\"],[0.2,\"#de77ae\"],[0.3,\"#f1b6da\"],[0.4,\"#fde0ef\"],[0.5,\"#f7f7f7\"],[0.6,\"#e6f5d0\"],[0.7,\"#b8e186\"],[0.8,\"#7fbc41\"],[0.9,\"#4d9221\"],[1,\"#276419\"]],\"sequential\":[[0.0,\"#0d0887\"],[0.1111111111111111,\"#46039f\"],[0.2222222222222222,\"#7201a8\"],[0.3333333333333333,\"#9c179e\"],[0.4444444444444444,\"#bd3786\"],[0.5555555555555556,\"#d8576b\"],[0.6666666666666666,\"#ed7953\"],[0.7777777777777778,\"#fb9f3a\"],[0.8888888888888888,\"#fdca26\"],[1.0,\"#f0f921\"]],\"sequentialminus\":[[0.0,\"#0d0887\"],[0.1111111111111111,\"#46039f\"],[0.2222222222222222,\"#7201a8\"],[0.3333333333333333,\"#9c179e\"],[0.4444444444444444,\"#bd3786\"],[0.5555555555555556,\"#d8576b\"],[0.6666666666666666,\"#ed7953\"],[0.7777777777777778,\"#fb9f3a\"],[0.8888888888888888,\"#fdca26\"],[1.0,\"#f0f921\"]]},\"colorway\":[\"#636efa\",\"#EF553B\",\"#00cc96\",\"#ab63fa\",\"#FFA15A\",\"#19d3f3\",\"#FF6692\",\"#B6E880\",\"#FF97FF\",\"#FECB52\"],\"font\":{\"color\":\"#2a3f5f\"},\"geo\":{\"bgcolor\":\"white\",\"lakecolor\":\"white\",\"landcolor\":\"white\",\"showlakes\":true,\"showland\":true,\"subunitcolor\":\"#C8D4E3\"},\"hoverlabel\":{\"align\":\"left\"},\"hovermode\":\"closest\",\"mapbox\":{\"style\":\"light\"},\"paper_bgcolor\":\"white\",\"plot_bgcolor\":\"white\",\"polar\":{\"angularaxis\":{\"gridcolor\":\"#EBF0F8\",\"linecolor\":\"#EBF0F8\",\"ticks\":\"\"},\"bgcolor\":\"white\",\"radialaxis\":{\"gridcolor\":\"#EBF0F8\",\"linecolor\":\"#EBF0F8\",\"ticks\":\"\"}},\"scene\":{\"xaxis\":{\"backgroundcolor\":\"white\",\"gridcolor\":\"#DFE8F3\",\"gridwidth\":2,\"linecolor\":\"#EBF0F8\",\"showbackground\":true,\"ticks\":\"\",\"zerolinecolor\":\"#EBF0F8\"},\"yaxis\":{\"backgroundcolor\":\"white\",\"gridcolor\":\"#DFE8F3\",\"gridwidth\":2,\"linecolor\":\"#EBF0F8\",\"showbackground\":true,\"ticks\":\"\",\"zerolinecolor\":\"#EBF0F8\"},\"zaxis\":{\"backgroundcolor\":\"white\",\"gridcolor\":\"#DFE8F3\",\"gridwidth\":2,\"linecolor\":\"#EBF0F8\",\"showbackground\":true,\"ticks\":\"\",\"zerolinecolor\":\"#EBF0F8\"}},\"shapedefaults\":{\"line\":{\"color\":\"#2a3f5f\"}},\"ternary\":{\"aaxis\":{\"gridcolor\":\"#DFE8F3\",\"linecolor\":\"#A2B1C6\",\"ticks\":\"\"},\"baxis\":{\"gridcolor\":\"#DFE8F3\",\"linecolor\":\"#A2B1C6\",\"ticks\":\"\"},\"bgcolor\":\"white\",\"caxis\":{\"gridcolor\":\"#DFE8F3\",\"linecolor\":\"#A2B1C6\",\"ticks\":\"\"}},\"title\":{\"x\":0.05},\"xaxis\":{\"automargin\":true,\"gridcolor\":\"#EBF0F8\",\"linecolor\":\"#EBF0F8\",\"ticks\":\"\",\"title\":{\"standoff\":15},\"zerolinecolor\":\"#EBF0F8\",\"zerolinewidth\":2},\"yaxis\":{\"automargin\":true,\"gridcolor\":\"#EBF0F8\",\"linecolor\":\"#EBF0F8\",\"ticks\":\"\",\"title\":{\"standoff\":15},\"zerolinecolor\":\"#EBF0F8\",\"zerolinewidth\":2}}},\"xaxis\":{\"anchor\":\"y\",\"domain\":[0.0,1.0],\"matches\":\"x3\",\"showticklabels\":false},\"yaxis\":{\"anchor\":\"x\",\"domain\":[0.7666666666666666,0.9999999999999999],\"title\":{\"text\":\"Cancellation Rate (%)\"},\"range\":[0,100]},\"xaxis2\":{\"anchor\":\"y2\",\"domain\":[0.0,1.0],\"matches\":\"x3\",\"showticklabels\":false},\"yaxis2\":{\"anchor\":\"x2\",\"domain\":[0.3833333333333333,0.6166666666666666],\"title\":{\"text\":\"Cancellation Rate (%)\"},\"range\":[0,100]},\"xaxis3\":{\"anchor\":\"y3\",\"domain\":[0.0,1.0],\"rangeslider\":{\"visible\":true},\"rangeselector\":{\"font\":{\"size\":12},\"buttons\":[{\"count\":3,\"label\":\"3m\",\"step\":\"month\",\"stepmode\":\"backward\"},{\"count\":6,\"label\":\"6m\",\"step\":\"month\",\"stepmode\":\"backward\"},{\"count\":1,\"label\":\"1y\",\"step\":\"year\",\"stepmode\":\"backward\"},{\"label\":\"All\",\"step\":\"all\"}],\"y\":1.1,\"x\":0.05,\"bgcolor\":\"rgba(150, 200, 250, 0.4)\"},\"title\":{\"text\":\"Date\"}},\"yaxis3\":{\"anchor\":\"x3\",\"domain\":[0.0,0.2333333333333333],\"title\":{\"text\":\"Cancellation Rate (%)\"},\"range\":[0,100]},\"annotations\":[{\"font\":{\"size\":16},\"showarrow\":false,\"text\":\"Spain (ESP)\",\"x\":0.5,\"xanchor\":\"center\",\"xref\":\"paper\",\"y\":0.9999999999999999,\"yanchor\":\"bottom\",\"yref\":\"paper\"},{\"font\":{\"size\":16},\"showarrow\":false,\"text\":\"France (FRA)\",\"x\":0.5,\"xanchor\":\"center\",\"xref\":\"paper\",\"y\":0.6166666666666666,\"yanchor\":\"bottom\",\"yref\":\"paper\"},{\"font\":{\"size\":16},\"showarrow\":false,\"text\":\"Italy (ITA)\",\"x\":0.5,\"xanchor\":\"center\",\"xref\":\"paper\",\"y\":0.2333333333333333,\"yanchor\":\"bottom\",\"yref\":\"paper\"}],\"title\":{\"font\":{\"size\":20},\"text\":\"Hotel Booking Cancellation Rates: New vs Repeated Guests by Country\",\"x\":0.5,\"xanchor\":\"center\",\"y\":0.97},\"legend\":{\"font\":{\"size\":14},\"orientation\":\"h\",\"yanchor\":\"bottom\",\"y\":1.12,\"xanchor\":\"center\",\"x\":0.5,\"bgcolor\":\"rgba(255, 255, 255, 0.8)\"},\"margin\":{\"l\":80,\"r\":80,\"t\":180,\"b\":100},\"hovermode\":\"x unified\",\"height\":900},                        {\"responsive\": true}                    ).then(function(){\n",
       "                            \n",
       "var gd = document.getElementById('5857140c-273f-4d4c-8460-8a0178a28a78');\n",
       "var x = new MutationObserver(function (mutations, observer) {{\n",
       "        var display = window.getComputedStyle(gd).display;\n",
       "        if (!display || display === 'none') {{\n",
       "            console.log([gd, 'removed!']);\n",
       "            Plotly.purge(gd);\n",
       "            observer.disconnect();\n",
       "        }}\n",
       "}});\n",
       "\n",
       "// Listen for the removal of the full notebook cells\n",
       "var notebookContainer = gd.closest('#notebook-container');\n",
       "if (notebookContainer) {{\n",
       "    x.observe(notebookContainer, {childList: true});\n",
       "}}\n",
       "\n",
       "// Listen for the clearing of the current output cell\n",
       "var outputEl = gd.closest('.output');\n",
       "if (outputEl) {{\n",
       "    x.observe(outputEl, {childList: true});\n",
       "}}\n",
       "\n",
       "                        })                };                });            </script>        </div>"
      ]
     },
     "metadata": {},
     "output_type": "display_data"
    }
   ],
   "source": [
    "import pandas as pd\n",
    "import plotly.graph_objects as go\n",
    "from plotly.subplots import make_subplots\n",
    "\n",
    "# DATA PREP\n",
    "# Create a datetime column for better plotting\n",
    "bookings_df['date'] = pd.to_datetime(bookings_df['ArrivalDateYear'].astype(str) + '-' + \n",
    "                           bookings_df['ArrivalDateMonth'] + '-01')\n",
    "\n",
    "# Function to calculate cancellation rates by country and guest type\n",
    "def calculate_cancellation_by_country(df):\n",
    "    # Group by country, date and repeated guest status\n",
    "    result = df.groupby(['Country', 'date', 'IsRepeatedGuest']).agg({\n",
    "        'IsCanceled': ['count', 'sum']\n",
    "    }).reset_index()\n",
    "    \n",
    "    # Flatten the multi-index and rename columns\n",
    "    result.columns = ['Country', 'date', 'IsRepeatedGuest', 'total_bookings', 'total_cancellations']\n",
    "    \n",
    "    # Calculate cancellation rate\n",
    "    result['cancellation_rate'] = (result['total_cancellations'] / \n",
    "                                   result['total_bookings'] * 100)\n",
    "    return result\n",
    "\n",
    "# Calculate stats\n",
    "cancellation_stats = calculate_cancellation_by_country(bookings_df)\n",
    "\n",
    "# Create a figure with subplots - one row for each country\n",
    "fig = make_subplots(\n",
    "    rows=3, \n",
    "    cols=1,\n",
    "    shared_xaxes=True,\n",
    "    subplot_titles=(\"Spain (ESP)\", \"France (FRA)\", \"Italy (ITA)\"),\n",
    "    vertical_spacing=0.15  # Increased spacing between subplots\n",
    ")\n",
    "\n",
    "# Countries with specific colors as requested\n",
    "countries = ['ESP', 'FRA', 'ITA']\n",
    "country_colors = {'ESP': 'red', 'FRA': 'blue', 'ITA': 'green'}\n",
    "\n",
    "# Add traces for each country in separate subplots\n",
    "for i, country in enumerate(countries, 1):\n",
    "    # Get data for new guests (IsRepeatedGuest = 0)\n",
    "    new_data = cancellation_stats[\n",
    "        (cancellation_stats['Country'] == country) & \n",
    "        (cancellation_stats['IsRepeatedGuest'] == 0)\n",
    "    ]\n",
    "    \n",
    "    # Get data for repeated guests (IsRepeatedGuest = 1)\n",
    "    repeated_data = cancellation_stats[\n",
    "        (cancellation_stats['Country'] == country) & \n",
    "        (cancellation_stats['IsRepeatedGuest'] == 1)\n",
    "    ]\n",
    "    \n",
    "    # Add trace for new guests - solid line\n",
    "    fig.add_trace(\n",
    "        go.Scatter(\n",
    "            x=new_data['date'],\n",
    "            y=new_data['cancellation_rate'],\n",
    "            name=f'New Guests ({country})' if i == 1 else None,\n",
    "            showlegend=i==1,\n",
    "            mode='lines+markers',\n",
    "            line=dict(color=country_colors[country], width=2, dash='solid'),  # Solid line\n",
    "            marker=dict(size=6),\n",
    "            hovertemplate='Date: %{x}<br>Cancellation Rate: %{y:.1f}%<extra></extra>'\n",
    "        ),\n",
    "        row=i, col=1\n",
    "    )\n",
    "    \n",
    "    # Add trace for repeated guests - dashed line as requested\n",
    "    fig.add_trace(\n",
    "        go.Scatter(\n",
    "            x=repeated_data['date'],\n",
    "            y=repeated_data['cancellation_rate'],\n",
    "            name=f'Repeated Guests ({country})' if i == 1 else None,\n",
    "            showlegend=i==1,\n",
    "            mode='lines+markers',\n",
    "            line=dict(color=country_colors[country], width=2, dash='dash'),  # Dashed line \n",
    "            marker=dict(size=6),\n",
    "            hovertemplate='Date: %{x}<br>Cancellation Rate: %{y:.1f}%<extra></extra>'\n",
    "        ),\n",
    "        row=i, col=1\n",
    "    )\n",
    "    \n",
    "    # Update y-axis label\n",
    "    fig.update_yaxes(title_text=\"Cancellation Rate (%)\", row=i, col=1, range=[0, 100])\n",
    "\n",
    "# Move filter buttons to more prominent position\n",
    "fig.update_xaxes(\n",
    "    rangeslider_visible=True,\n",
    "    rangeselector=dict(\n",
    "        buttons=list([\n",
    "            dict(count=3, label=\"3m\", step=\"month\", stepmode=\"backward\"),\n",
    "            dict(count=6, label=\"6m\", step=\"month\", stepmode=\"backward\"),\n",
    "            dict(count=1, label=\"1y\", step=\"year\", stepmode=\"backward\"),\n",
    "            dict(step=\"all\", label=\"All\")\n",
    "        ]),\n",
    "        y=1.1,  # Position higher up\n",
    "        x=0.05,\n",
    "        bgcolor='rgba(150, 200, 250, 0.4)',  # Light blue background\n",
    "        font=dict(size=12)\n",
    "    ),\n",
    "    row=3, col=1\n",
    ")\n",
    "\n",
    "# Update shared x-axis title\n",
    "fig.update_xaxes(title_text=\"Date\", row=3, col=1)\n",
    "\n",
    "# Update the legend positioning in your fig.update_layout section:\n",
    "fig.update_layout(\n",
    "    title=dict(\n",
    "        text='Hotel Booking Cancellation Rates: New vs Repeated Guests by Country',\n",
    "        x=0.5,\n",
    "        xanchor='center',\n",
    "        y=0.97,  # Move title up\n",
    "        font=dict(size=20)  # Larger title font\n",
    "    ),\n",
    "    hovermode='x unified',\n",
    "    legend=dict(\n",
    "        orientation=\"h\",\n",
    "        yanchor=\"bottom\",\n",
    "        y=1.12,  # Increased from 1.08 to move legend higher\n",
    "        xanchor=\"center\",\n",
    "        x=0.5,\n",
    "        font=dict(size=14),\n",
    "        bgcolor='rgba(255, 255, 255, 0.8)'\n",
    "    ),\n",
    "    template='plotly_white',\n",
    "    height=900,  # Increased height for better spacing\n",
    "    margin=dict(l=80, r=80, t=180, b=100),  # Increased top margin from 150 to 180\n",
    ")\n",
    "\n",
    "# Show plot\n",
    "fig.show()\n",
    "\n",
    "fig.write_html(\"loyalty_plot_v2.html\")"
   ]
  },
  {
   "cell_type": "code",
   "execution_count": 87,
   "id": "7ae71065-4829-4aed-aac4-d287363e6a57",
   "metadata": {},
   "outputs": [
    {
     "data": {
      "text/html": [
       "\n",
       "<style>\n",
       "  #altair-viz-ebbed392338e4141a61b9ee99a7cd5b4.vega-embed {\n",
       "    width: 100%;\n",
       "    display: flex;\n",
       "  }\n",
       "\n",
       "  #altair-viz-ebbed392338e4141a61b9ee99a7cd5b4.vega-embed details,\n",
       "  #altair-viz-ebbed392338e4141a61b9ee99a7cd5b4.vega-embed details summary {\n",
       "    position: relative;\n",
       "  }\n",
       "</style>\n",
       "<div id=\"altair-viz-ebbed392338e4141a61b9ee99a7cd5b4\"></div>\n",
       "<script type=\"text/javascript\">\n",
       "  var VEGA_DEBUG = (typeof VEGA_DEBUG == \"undefined\") ? {} : VEGA_DEBUG;\n",
       "  (function(spec, embedOpt){\n",
       "    let outputDiv = document.currentScript.previousElementSibling;\n",
       "    if (outputDiv.id !== \"altair-viz-ebbed392338e4141a61b9ee99a7cd5b4\") {\n",
       "      outputDiv = document.getElementById(\"altair-viz-ebbed392338e4141a61b9ee99a7cd5b4\");\n",
       "    }\n",
       "    const paths = {\n",
       "      \"vega\": \"https://cdn.jsdelivr.net/npm/vega@5?noext\",\n",
       "      \"vega-lib\": \"https://cdn.jsdelivr.net/npm/vega-lib?noext\",\n",
       "      \"vega-lite\": \"https://cdn.jsdelivr.net/npm/vega-lite@5.8.0?noext\",\n",
       "      \"vega-embed\": \"https://cdn.jsdelivr.net/npm/vega-embed@6?noext\",\n",
       "    };\n",
       "\n",
       "    function maybeLoadScript(lib, version) {\n",
       "      var key = `${lib.replace(\"-\", \"\")}_version`;\n",
       "      return (VEGA_DEBUG[key] == version) ?\n",
       "        Promise.resolve(paths[lib]) :\n",
       "        new Promise(function(resolve, reject) {\n",
       "          var s = document.createElement('script');\n",
       "          document.getElementsByTagName(\"head\")[0].appendChild(s);\n",
       "          s.async = true;\n",
       "          s.onload = () => {\n",
       "            VEGA_DEBUG[key] = version;\n",
       "            return resolve(paths[lib]);\n",
       "          };\n",
       "          s.onerror = () => reject(`Error loading script: ${paths[lib]}`);\n",
       "          s.src = paths[lib];\n",
       "        });\n",
       "    }\n",
       "\n",
       "    function showError(err) {\n",
       "      outputDiv.innerHTML = `<div class=\"error\" style=\"color:red;\">${err}</div>`;\n",
       "      throw err;\n",
       "    }\n",
       "\n",
       "    function displayChart(vegaEmbed) {\n",
       "      vegaEmbed(outputDiv, spec, embedOpt)\n",
       "        .catch(err => showError(`Javascript Error: ${err.message}<br>This usually means there's a typo in your chart specification. See the javascript console for the full traceback.`));\n",
       "    }\n",
       "\n",
       "    if(typeof define === \"function\" && define.amd) {\n",
       "      requirejs.config({paths});\n",
       "      require([\"vega-embed\"], displayChart, err => showError(`Error loading script: ${err.message}`));\n",
       "    } else {\n",
       "      maybeLoadScript(\"vega\", \"5\")\n",
       "        .then(() => maybeLoadScript(\"vega-lite\", \"5.8.0\"))\n",
       "        .then(() => maybeLoadScript(\"vega-embed\", \"6\"))\n",
       "        .catch(showError)\n",
       "        .then(() => displayChart(vegaEmbed));\n",
       "    }\n",
       "  })({\"config\": {\"view\": {\"continuousWidth\": 300, \"continuousHeight\": 300}}, \"hconcat\": [{\"mark\": {\"type\": \"line\"}, \"encoding\": {\"color\": {\"field\": \"Country\", \"scale\": {\"domain\": [\"France\", \"Italy\", \"Spain\"], \"range\": [\"blue\", \"green\", \"red\"]}, \"type\": \"nominal\"}, \"opacity\": {\"condition\": {\"param\": \"param_11\", \"value\": 1}, \"value\": 0.3}, \"tooltip\": [{\"field\": \"Country\", \"type\": \"nominal\"}, {\"field\": \"YearMonth\", \"type\": \"temporal\"}, {\"aggregate\": \"mean\", \"field\": \"ADR\", \"type\": \"quantitative\"}], \"x\": {\"axis\": {\"format\": \"%b %Y\"}, \"field\": \"YearMonth\", \"title\": \"Month/Year\", \"type\": \"temporal\"}, \"y\": {\"aggregate\": \"mean\", \"field\": \"ADR\", \"title\": \"Average Daily Rate (ADR)\", \"type\": \"quantitative\"}}, \"height\": 720, \"name\": \"view_11\", \"title\": \"Average Room Rates, per Month/Year\"}, {\"mark\": {\"type\": \"bar\"}, \"encoding\": {\"tooltip\": [{\"field\": \"TravelerType\", \"type\": \"nominal\"}, {\"field\": \"PercentTotal\", \"type\": \"quantitative\"}], \"x\": {\"field\": \"TravelerType\", \"title\": \"Traveler Type\", \"type\": \"nominal\"}, \"y\": {\"axis\": {\"format\": \"%\"}, \"field\": \"PercentTotal\", \"title\": \"Percentage of Cancellations\", \"type\": \"quantitative\"}}, \"height\": 720, \"title\": \"Percentage of Cancellations by Traveler Type\", \"transform\": [{\"filter\": {\"param\": \"param_11\"}}, {\"aggregate\": [{\"op\": \"sum\", \"field\": \"IsCanceled\", \"as\": \"TotalCancelations\"}], \"groupby\": [\"TravelerType\"]}, {\"window\": [{\"op\": \"sum\", \"field\": \"TotalCancelations\", \"as\": \"TotalSum\"}], \"frame\": [null, null]}, {\"calculate\": \"datum.TotalCancelations / datum.TotalSum\", \"as\": \"PercentTotal\"}]}], \"data\": {\"name\": \"data-c77cddb84270f768ea6191d32fb43b5f\"}, \"params\": [{\"name\": \"param_11\", \"select\": {\"type\": \"interval\", \"encodings\": [\"x\"]}, \"views\": [\"view_11\"]}], \"$schema\": \"https://vega.github.io/schema/vega-lite/v5.8.0.json\", \"datasets\": {\"data-c77cddb84270f768ea6191d32fb43b5f\": [{\"Country\": \"Spain\", \"YearMonth\": \"2015-07-01T00:00:00\", \"TravelerType\": \"Couple\", \"ADR\": 126.54974358974358, \"IsCanceled\": 0}, {\"Country\": \"Spain\", \"YearMonth\": \"2015-07-01T00:00:00\", \"TravelerType\": \"Family\", \"ADR\": 170.75235294117647, \"IsCanceled\": 0}, {\"Country\": \"Spain\", \"YearMonth\": \"2015-07-01T00:00:00\", \"TravelerType\": \"Group\", \"ADR\": 127.96857142857142, \"IsCanceled\": 0}, {\"Country\": \"Spain\", \"YearMonth\": \"2015-07-01T00:00:00\", \"TravelerType\": \"Solo\", \"ADR\": 47.833333333333336, \"IsCanceled\": 0}, {\"Country\": \"Spain\", \"YearMonth\": \"2015-08-01T00:00:00\", \"TravelerType\": \"Couple\", \"ADR\": 103.29307125307125, \"IsCanceled\": 40}, {\"Country\": \"Spain\", \"YearMonth\": \"2015-08-01T00:00:00\", \"TravelerType\": \"Family\", \"ADR\": 138.39484848484847, \"IsCanceled\": 0}, {\"Country\": \"Spain\", \"YearMonth\": \"2015-08-01T00:00:00\", \"TravelerType\": \"Group\", \"ADR\": 131.07111111111112, \"IsCanceled\": 0}, {\"Country\": \"Spain\", \"YearMonth\": \"2015-08-01T00:00:00\", \"TravelerType\": \"Solo\", \"ADR\": 50.65, \"IsCanceled\": 0}, {\"Country\": \"Spain\", \"YearMonth\": \"2015-09-01T00:00:00\", \"TravelerType\": \"Couple\", \"ADR\": 102.7179761904762, \"IsCanceled\": 4}, {\"Country\": \"Spain\", \"YearMonth\": \"2015-09-01T00:00:00\", \"TravelerType\": \"Family\", \"ADR\": 132.7075, \"IsCanceled\": 0}, {\"Country\": \"Spain\", \"YearMonth\": \"2015-09-01T00:00:00\", \"TravelerType\": \"Group\", \"ADR\": 112.827, \"IsCanceled\": 0}, {\"Country\": \"Spain\", \"YearMonth\": \"2015-09-01T00:00:00\", \"TravelerType\": \"Solo\", \"ADR\": 80.6134375, \"IsCanceled\": 0}, {\"Country\": \"Spain\", \"YearMonth\": \"2015-10-01T00:00:00\", \"TravelerType\": \"Couple\", \"ADR\": 79.88731060606061, \"IsCanceled\": 54}, {\"Country\": \"Spain\", \"YearMonth\": \"2015-10-01T00:00:00\", \"TravelerType\": \"Family\", \"ADR\": 90.74076923076925, \"IsCanceled\": 0}, {\"Country\": \"Spain\", \"YearMonth\": \"2015-10-01T00:00:00\", \"TravelerType\": \"Group\", \"ADR\": 84.0, \"IsCanceled\": 0}, {\"Country\": \"Spain\", \"YearMonth\": \"2015-10-01T00:00:00\", \"TravelerType\": \"Solo\", \"ADR\": 78.35441176470589, \"IsCanceled\": 2}, {\"Country\": \"Spain\", \"YearMonth\": \"2015-11-01T00:00:00\", \"TravelerType\": \"Couple\", \"ADR\": 64.8125, \"IsCanceled\": 0}, {\"Country\": \"Spain\", \"YearMonth\": \"2015-11-01T00:00:00\", \"TravelerType\": \"Family\", \"ADR\": 73.16, \"IsCanceled\": 0}, {\"Country\": \"Spain\", \"YearMonth\": \"2015-11-01T00:00:00\", \"TravelerType\": \"Group\", \"ADR\": 59.17, \"IsCanceled\": 0}, {\"Country\": \"Spain\", \"YearMonth\": \"2015-11-01T00:00:00\", \"TravelerType\": \"Solo\", \"ADR\": 54.39395833333333, \"IsCanceled\": 0}, {\"Country\": \"Spain\", \"YearMonth\": \"2015-12-01T00:00:00\", \"TravelerType\": \"Couple\", \"ADR\": 71.30179012345678, \"IsCanceled\": 26}, {\"Country\": \"Spain\", \"YearMonth\": \"2015-12-01T00:00:00\", \"TravelerType\": \"Family\", \"ADR\": 91.79478260869566, \"IsCanceled\": 1}, {\"Country\": \"Spain\", \"YearMonth\": \"2015-12-01T00:00:00\", \"TravelerType\": \"Group\", \"ADR\": 86.72625, \"IsCanceled\": 1}, {\"Country\": \"Spain\", \"YearMonth\": \"2015-12-01T00:00:00\", \"TravelerType\": \"Solo\", \"ADR\": 59.60930232558139, \"IsCanceled\": 4}, {\"Country\": \"Spain\", \"YearMonth\": \"2016-01-01T00:00:00\", \"TravelerType\": \"Couple\", \"ADR\": 68.92119658119658, \"IsCanceled\": 13}, {\"Country\": \"Spain\", \"YearMonth\": \"2016-01-01T00:00:00\", \"TravelerType\": \"Family\", \"ADR\": 86.9125, \"IsCanceled\": 7}, {\"Country\": \"Spain\", \"YearMonth\": \"2016-01-01T00:00:00\", \"TravelerType\": \"Group\", \"ADR\": 101.5, \"IsCanceled\": 0}, {\"Country\": \"Spain\", \"YearMonth\": \"2016-01-01T00:00:00\", \"TravelerType\": \"Solo\", \"ADR\": 59.62866666666666, \"IsCanceled\": 2}, {\"Country\": \"Spain\", \"YearMonth\": \"2016-02-01T00:00:00\", \"TravelerType\": \"Couple\", \"ADR\": 69.5066511627907, \"IsCanceled\": 31}, {\"Country\": \"Spain\", \"YearMonth\": \"2016-02-01T00:00:00\", \"TravelerType\": \"Family\", \"ADR\": 105.36777777777777, \"IsCanceled\": 3}, {\"Country\": \"Spain\", \"YearMonth\": \"2016-02-01T00:00:00\", \"TravelerType\": \"Group\", \"ADR\": 108.4295, \"IsCanceled\": 4}, {\"Country\": \"Spain\", \"YearMonth\": \"2016-02-01T00:00:00\", \"TravelerType\": \"Solo\", \"ADR\": 56.74777777777778, \"IsCanceled\": 4}, {\"Country\": \"Spain\", \"YearMonth\": \"2016-03-01T00:00:00\", \"TravelerType\": \"Couple\", \"ADR\": 83.48139784946237, \"IsCanceled\": 64}, {\"Country\": \"Spain\", \"YearMonth\": \"2016-03-01T00:00:00\", \"TravelerType\": \"Family\", \"ADR\": 128.88336842105264, \"IsCanceled\": 31}, {\"Country\": \"Spain\", \"YearMonth\": \"2016-03-01T00:00:00\", \"TravelerType\": \"Group\", \"ADR\": 134.505, \"IsCanceled\": 17}, {\"Country\": \"Spain\", \"YearMonth\": \"2016-03-01T00:00:00\", \"TravelerType\": \"Solo\", \"ADR\": 62.66421875, \"IsCanceled\": 1}, {\"Country\": \"Spain\", \"YearMonth\": \"2016-04-01T00:00:00\", \"TravelerType\": \"Couple\", \"ADR\": 90.36502824858758, \"IsCanceled\": 53}, {\"Country\": \"Spain\", \"YearMonth\": \"2016-04-01T00:00:00\", \"TravelerType\": \"Family\", \"ADR\": 165.5352, \"IsCanceled\": 10}, {\"Country\": \"Spain\", \"YearMonth\": \"2016-04-01T00:00:00\", \"TravelerType\": \"Group\", \"ADR\": 155.6847619047619, \"IsCanceled\": 8}, {\"Country\": \"Spain\", \"YearMonth\": \"2016-04-01T00:00:00\", \"TravelerType\": \"Solo\", \"ADR\": 77.30933333333334, \"IsCanceled\": 16}, {\"Country\": \"Spain\", \"YearMonth\": \"2016-05-01T00:00:00\", \"TravelerType\": \"Couple\", \"ADR\": 105.09175, \"IsCanceled\": 40}, {\"Country\": \"Spain\", \"YearMonth\": \"2016-05-01T00:00:00\", \"TravelerType\": \"Family\", \"ADR\": 158.16, \"IsCanceled\": 10}, {\"Country\": \"Spain\", \"YearMonth\": \"2016-05-01T00:00:00\", \"TravelerType\": \"Group\", \"ADR\": 177.64999999999998, \"IsCanceled\": 4}, {\"Country\": \"Spain\", \"YearMonth\": \"2016-05-01T00:00:00\", \"TravelerType\": \"Solo\", \"ADR\": 99.7041935483871, \"IsCanceled\": 4}, {\"Country\": \"Spain\", \"YearMonth\": \"2016-06-01T00:00:00\", \"TravelerType\": \"Couple\", \"ADR\": 120.30126050420168, \"IsCanceled\": 45}, {\"Country\": \"Spain\", \"YearMonth\": \"2016-06-01T00:00:00\", \"TravelerType\": \"Family\", \"ADR\": 167.6344, \"IsCanceled\": 13}, {\"Country\": \"Spain\", \"YearMonth\": \"2016-06-01T00:00:00\", \"TravelerType\": \"Group\", \"ADR\": 161.2255, \"IsCanceled\": 7}, {\"Country\": \"Spain\", \"YearMonth\": \"2016-06-01T00:00:00\", \"TravelerType\": \"Solo\", \"ADR\": 108.34049999999999, \"IsCanceled\": 6}, {\"Country\": \"Spain\", \"YearMonth\": \"2016-07-01T00:00:00\", \"TravelerType\": \"Couple\", \"ADR\": 150.86004366812224, \"IsCanceled\": 95}, {\"Country\": \"Spain\", \"YearMonth\": \"2016-07-01T00:00:00\", \"TravelerType\": \"Family\", \"ADR\": 178.288125, \"IsCanceled\": 26}, {\"Country\": \"Spain\", \"YearMonth\": \"2016-07-01T00:00:00\", \"TravelerType\": \"Group\", \"ADR\": 164.0639024390244, \"IsCanceled\": 12}, {\"Country\": \"Spain\", \"YearMonth\": \"2016-07-01T00:00:00\", \"TravelerType\": \"Solo\", \"ADR\": 103.645, \"IsCanceled\": 3}, {\"Country\": \"Spain\", \"YearMonth\": \"2016-08-01T00:00:00\", \"TravelerType\": \"Couple\", \"ADR\": 170.03373809523808, \"IsCanceled\": 149}, {\"Country\": \"Spain\", \"YearMonth\": \"2016-08-01T00:00:00\", \"TravelerType\": \"Family\", \"ADR\": 203.73043165467624, \"IsCanceled\": 50}, {\"Country\": \"Spain\", \"YearMonth\": \"2016-08-01T00:00:00\", \"TravelerType\": \"Group\", \"ADR\": 165.67333333333332, \"IsCanceled\": 28}, {\"Country\": \"Spain\", \"YearMonth\": \"2016-08-01T00:00:00\", \"TravelerType\": \"Solo\", \"ADR\": 122.045, \"IsCanceled\": 2}, {\"Country\": \"Spain\", \"YearMonth\": \"2016-09-01T00:00:00\", \"TravelerType\": \"Couple\", \"ADR\": 135.96753086419753, \"IsCanceled\": 53}, {\"Country\": \"Spain\", \"YearMonth\": \"2016-09-01T00:00:00\", \"TravelerType\": \"Family\", \"ADR\": 182.05105263157893, \"IsCanceled\": 16}, {\"Country\": \"Spain\", \"YearMonth\": \"2016-09-01T00:00:00\", \"TravelerType\": \"Group\", \"ADR\": 166.401, \"IsCanceled\": 4}, {\"Country\": \"Spain\", \"YearMonth\": \"2016-09-01T00:00:00\", \"TravelerType\": \"Solo\", \"ADR\": 117.90204545454544, \"IsCanceled\": 11}, {\"Country\": \"Spain\", \"YearMonth\": \"2016-10-01T00:00:00\", \"TravelerType\": \"Couple\", \"ADR\": 100.6521761658031, \"IsCanceled\": 66}, {\"Country\": \"Spain\", \"YearMonth\": \"2016-10-01T00:00:00\", \"TravelerType\": \"Family\", \"ADR\": 148.2895, \"IsCanceled\": 5}, {\"Country\": \"Spain\", \"YearMonth\": \"2016-10-01T00:00:00\", \"TravelerType\": \"Group\", \"ADR\": 156.36666666666667, \"IsCanceled\": 2}, {\"Country\": \"Spain\", \"YearMonth\": \"2016-10-01T00:00:00\", \"TravelerType\": \"Solo\", \"ADR\": 99.02254237288136, \"IsCanceled\": 2}, {\"Country\": \"Spain\", \"YearMonth\": \"2016-11-01T00:00:00\", \"TravelerType\": \"Couple\", \"ADR\": 77.27305389221557, \"IsCanceled\": 49}, {\"Country\": \"Spain\", \"YearMonth\": \"2016-11-01T00:00:00\", \"TravelerType\": \"Family\", \"ADR\": 103.17461538461538, \"IsCanceled\": 3}, {\"Country\": \"Spain\", \"YearMonth\": \"2016-11-01T00:00:00\", \"TravelerType\": \"Group\", \"ADR\": 123.77142857142857, \"IsCanceled\": 2}, {\"Country\": \"Spain\", \"YearMonth\": \"2016-11-01T00:00:00\", \"TravelerType\": \"Solo\", \"ADR\": 89.2327868852459, \"IsCanceled\": 11}, {\"Country\": \"Spain\", \"YearMonth\": \"2016-12-01T00:00:00\", \"TravelerType\": \"Couple\", \"ADR\": 85.92061538461539, \"IsCanceled\": 115}, {\"Country\": \"Spain\", \"YearMonth\": \"2016-12-01T00:00:00\", \"TravelerType\": \"Family\", \"ADR\": 120.65544303797469, \"IsCanceled\": 33}, {\"Country\": \"Spain\", \"YearMonth\": \"2016-12-01T00:00:00\", \"TravelerType\": \"Group\", \"ADR\": 130.89, \"IsCanceled\": 23}, {\"Country\": \"Spain\", \"YearMonth\": \"2016-12-01T00:00:00\", \"TravelerType\": \"Solo\", \"ADR\": 67.43688524590164, \"IsCanceled\": 21}, {\"Country\": \"Spain\", \"YearMonth\": \"2017-01-01T00:00:00\", \"TravelerType\": \"Couple\", \"ADR\": 75.23271186440678, \"IsCanceled\": 52}, {\"Country\": \"Spain\", \"YearMonth\": \"2017-01-01T00:00:00\", \"TravelerType\": \"Family\", \"ADR\": 121.09833333333333, \"IsCanceled\": 6}, {\"Country\": \"Spain\", \"YearMonth\": \"2017-01-01T00:00:00\", \"TravelerType\": \"Group\", \"ADR\": 114.48230769230769, \"IsCanceled\": 3}, {\"Country\": \"Spain\", \"YearMonth\": \"2017-01-01T00:00:00\", \"TravelerType\": \"Solo\", \"ADR\": 78.95505376344086, \"IsCanceled\": 5}, {\"Country\": \"Spain\", \"YearMonth\": \"2017-02-01T00:00:00\", \"TravelerType\": \"Couple\", \"ADR\": 73.64004255319149, \"IsCanceled\": 54}, {\"Country\": \"Spain\", \"YearMonth\": \"2017-02-01T00:00:00\", \"TravelerType\": \"Family\", \"ADR\": 125.22933333333334, \"IsCanceled\": 4}, {\"Country\": \"Spain\", \"YearMonth\": \"2017-02-01T00:00:00\", \"TravelerType\": \"Group\", \"ADR\": 124.93538461538462, \"IsCanceled\": 5}, {\"Country\": \"Spain\", \"YearMonth\": \"2017-02-01T00:00:00\", \"TravelerType\": \"Solo\", \"ADR\": 69.65030612244898, \"IsCanceled\": 2}, {\"Country\": \"Spain\", \"YearMonth\": \"2017-03-01T00:00:00\", \"TravelerType\": \"Couple\", \"ADR\": 88.21947368421053, \"IsCanceled\": 32}, {\"Country\": \"Spain\", \"YearMonth\": \"2017-03-01T00:00:00\", \"TravelerType\": \"Family\", \"ADR\": 135.3738095238095, \"IsCanceled\": 8}, {\"Country\": \"Spain\", \"YearMonth\": \"2017-03-01T00:00:00\", \"TravelerType\": \"Group\", \"ADR\": 157.36133333333333, \"IsCanceled\": 7}, {\"Country\": \"Spain\", \"YearMonth\": \"2017-03-01T00:00:00\", \"TravelerType\": \"Solo\", \"ADR\": 97.32979591836734, \"IsCanceled\": 3}, {\"Country\": \"Spain\", \"YearMonth\": \"2017-04-01T00:00:00\", \"TravelerType\": \"Couple\", \"ADR\": 116.6268932038835, \"IsCanceled\": 128}, {\"Country\": \"Spain\", \"YearMonth\": \"2017-04-01T00:00:00\", \"TravelerType\": \"Family\", \"ADR\": 174.30892857142857, \"IsCanceled\": 24}, {\"Country\": \"Spain\", \"YearMonth\": \"2017-04-01T00:00:00\", \"TravelerType\": \"Group\", \"ADR\": 167.86470588235292, \"IsCanceled\": 8}, {\"Country\": \"Spain\", \"YearMonth\": \"2017-04-01T00:00:00\", \"TravelerType\": \"Solo\", \"ADR\": 112.275, \"IsCanceled\": 1}, {\"Country\": \"Spain\", \"YearMonth\": \"2017-05-01T00:00:00\", \"TravelerType\": \"Couple\", \"ADR\": 128.9081308411215, \"IsCanceled\": 39}, {\"Country\": \"Spain\", \"YearMonth\": \"2017-05-01T00:00:00\", \"TravelerType\": \"Family\", \"ADR\": 165.82304347826087, \"IsCanceled\": 10}, {\"Country\": \"Spain\", \"YearMonth\": \"2017-05-01T00:00:00\", \"TravelerType\": \"Group\", \"ADR\": 180.38333333333333, \"IsCanceled\": 5}, {\"Country\": \"Spain\", \"YearMonth\": \"2017-05-01T00:00:00\", \"TravelerType\": \"Solo\", \"ADR\": 114.0495238095238, \"IsCanceled\": 5}, {\"Country\": \"Spain\", \"YearMonth\": \"2017-06-01T00:00:00\", \"TravelerType\": \"Couple\", \"ADR\": 141.72372262773723, \"IsCanceled\": 52}, {\"Country\": \"Spain\", \"YearMonth\": \"2017-06-01T00:00:00\", \"TravelerType\": \"Family\", \"ADR\": 176.3385294117647, \"IsCanceled\": 16}, {\"Country\": \"Spain\", \"YearMonth\": \"2017-06-01T00:00:00\", \"TravelerType\": \"Group\", \"ADR\": 184.54166666666666, \"IsCanceled\": 11}, {\"Country\": \"Spain\", \"YearMonth\": \"2017-06-01T00:00:00\", \"TravelerType\": \"Solo\", \"ADR\": 130.76166666666668, \"IsCanceled\": 10}, {\"Country\": \"Spain\", \"YearMonth\": \"2017-07-01T00:00:00\", \"TravelerType\": \"Couple\", \"ADR\": 166.1746992481203, \"IsCanceled\": 112}, {\"Country\": \"Spain\", \"YearMonth\": \"2017-07-01T00:00:00\", \"TravelerType\": \"Family\", \"ADR\": 202.48888888888888, \"IsCanceled\": 20}, {\"Country\": \"Spain\", \"YearMonth\": \"2017-07-01T00:00:00\", \"TravelerType\": \"Group\", \"ADR\": 197.30033333333333, \"IsCanceled\": 10}, {\"Country\": \"Spain\", \"YearMonth\": \"2017-07-01T00:00:00\", \"TravelerType\": \"Solo\", \"ADR\": 116.96041666666667, \"IsCanceled\": 7}, {\"Country\": \"Spain\", \"YearMonth\": \"2017-08-01T00:00:00\", \"TravelerType\": \"Couple\", \"ADR\": 189.60034090909093, \"IsCanceled\": 153}, {\"Country\": \"Spain\", \"YearMonth\": \"2017-08-01T00:00:00\", \"TravelerType\": \"Family\", \"ADR\": 237.5951879699248, \"IsCanceled\": 53}, {\"Country\": \"Spain\", \"YearMonth\": \"2017-08-01T00:00:00\", \"TravelerType\": \"Group\", \"ADR\": 214.53980769230768, \"IsCanceled\": 18}, {\"Country\": \"Spain\", \"YearMonth\": \"2017-08-01T00:00:00\", \"TravelerType\": \"Solo\", \"ADR\": 130.14722222222224, \"IsCanceled\": 8}, {\"Country\": \"France\", \"YearMonth\": \"2015-07-01T00:00:00\", \"TravelerType\": \"Couple\", \"ADR\": 95.9025, \"IsCanceled\": 0}, {\"Country\": \"France\", \"YearMonth\": \"2015-07-01T00:00:00\", \"TravelerType\": \"Family\", \"ADR\": 132.09, \"IsCanceled\": 0}, {\"Country\": \"France\", \"YearMonth\": \"2015-07-01T00:00:00\", \"TravelerType\": \"Group\", \"ADR\": 210.0, \"IsCanceled\": 0}, {\"Country\": \"France\", \"YearMonth\": \"2015-07-01T00:00:00\", \"TravelerType\": \"Solo\", \"ADR\": 73.0, \"IsCanceled\": 0}, {\"Country\": \"France\", \"YearMonth\": \"2015-08-01T00:00:00\", \"TravelerType\": \"Couple\", \"ADR\": 105.91865248226951, \"IsCanceled\": 1}, {\"Country\": \"France\", \"YearMonth\": \"2015-08-01T00:00:00\", \"TravelerType\": \"Family\", \"ADR\": 130.49473684210525, \"IsCanceled\": 0}, {\"Country\": \"France\", \"YearMonth\": \"2015-08-01T00:00:00\", \"TravelerType\": \"Group\", \"ADR\": 162.95, \"IsCanceled\": 0}, {\"Country\": \"France\", \"YearMonth\": \"2015-08-01T00:00:00\", \"TravelerType\": \"Solo\", \"ADR\": 90.73, \"IsCanceled\": 0}, {\"Country\": \"France\", \"YearMonth\": \"2015-09-01T00:00:00\", \"TravelerType\": \"Couple\", \"ADR\": 92.48729452054795, \"IsCanceled\": 18}, {\"Country\": \"France\", \"YearMonth\": \"2015-09-01T00:00:00\", \"TravelerType\": \"Family\", \"ADR\": 129.0, \"IsCanceled\": 0}, {\"Country\": \"France\", \"YearMonth\": \"2015-09-01T00:00:00\", \"TravelerType\": \"Group\", \"ADR\": 66.29, \"IsCanceled\": 0}, {\"Country\": \"France\", \"YearMonth\": \"2015-09-01T00:00:00\", \"TravelerType\": \"Solo\", \"ADR\": 89.09072164948452, \"IsCanceled\": 12}, {\"Country\": \"France\", \"YearMonth\": \"2015-10-01T00:00:00\", \"TravelerType\": \"Couple\", \"ADR\": 82.21028985507246, \"IsCanceled\": 0}, {\"Country\": \"France\", \"YearMonth\": \"2015-10-01T00:00:00\", \"TravelerType\": \"Family\", \"ADR\": 99.43357142857143, \"IsCanceled\": 0}, {\"Country\": \"France\", \"YearMonth\": \"2015-10-01T00:00:00\", \"TravelerType\": \"Group\", \"ADR\": 100.875, \"IsCanceled\": 0}, {\"Country\": \"France\", \"YearMonth\": \"2015-10-01T00:00:00\", \"TravelerType\": \"Solo\", \"ADR\": 79.7904, \"IsCanceled\": 1}, {\"Country\": \"France\", \"YearMonth\": \"2015-11-01T00:00:00\", \"TravelerType\": \"Couple\", \"ADR\": 66.26857142857143, \"IsCanceled\": 1}, {\"Country\": \"France\", \"YearMonth\": \"2015-11-01T00:00:00\", \"TravelerType\": \"Family\", \"ADR\": 79.0, \"IsCanceled\": 0}, {\"Country\": \"France\", \"YearMonth\": \"2015-11-01T00:00:00\", \"TravelerType\": \"Group\", \"ADR\": 90.0, \"IsCanceled\": 0}, {\"Country\": \"France\", \"YearMonth\": \"2015-11-01T00:00:00\", \"TravelerType\": \"Solo\", \"ADR\": 60.95907692307693, \"IsCanceled\": 1}, {\"Country\": \"France\", \"YearMonth\": \"2015-12-01T00:00:00\", \"TravelerType\": \"Couple\", \"ADR\": 81.07427710843373, \"IsCanceled\": 8}, {\"Country\": \"France\", \"YearMonth\": \"2015-12-01T00:00:00\", \"TravelerType\": \"Family\", \"ADR\": 122.10285714285715, \"IsCanceled\": 0}, {\"Country\": \"France\", \"YearMonth\": \"2015-12-01T00:00:00\", \"TravelerType\": \"Group\", \"ADR\": 58.602, \"IsCanceled\": 0}, {\"Country\": \"France\", \"YearMonth\": \"2015-12-01T00:00:00\", \"TravelerType\": \"Solo\", \"ADR\": 69.51210526315789, \"IsCanceled\": 0}, {\"Country\": \"France\", \"YearMonth\": \"2016-01-01T00:00:00\", \"TravelerType\": \"Couple\", \"ADR\": 69.18971698113208, \"IsCanceled\": 8}, {\"Country\": \"France\", \"YearMonth\": \"2016-01-01T00:00:00\", \"TravelerType\": \"Family\", \"ADR\": 56.333333333333336, \"IsCanceled\": 0}, {\"Country\": \"France\", \"YearMonth\": \"2016-01-01T00:00:00\", \"TravelerType\": \"Group\", \"ADR\": 110.0, \"IsCanceled\": 0}, {\"Country\": \"France\", \"YearMonth\": \"2016-01-01T00:00:00\", \"TravelerType\": \"Solo\", \"ADR\": 66.9525, \"IsCanceled\": 2}, {\"Country\": \"France\", \"YearMonth\": \"2016-02-01T00:00:00\", \"TravelerType\": \"Couple\", \"ADR\": 77.08018181818181, \"IsCanceled\": 17}, {\"Country\": \"France\", \"YearMonth\": \"2016-02-01T00:00:00\", \"TravelerType\": \"Family\", \"ADR\": 109.33675675675676, \"IsCanceled\": 1}, {\"Country\": \"France\", \"YearMonth\": \"2016-02-01T00:00:00\", \"TravelerType\": \"Group\", \"ADR\": 126.785, \"IsCanceled\": 3}, {\"Country\": \"France\", \"YearMonth\": \"2016-02-01T00:00:00\", \"TravelerType\": \"Solo\", \"ADR\": 73.12205128205129, \"IsCanceled\": 11}, {\"Country\": \"France\", \"YearMonth\": \"2016-03-01T00:00:00\", \"TravelerType\": \"Couple\", \"ADR\": 84.3476569037657, \"IsCanceled\": 27}, {\"Country\": \"France\", \"YearMonth\": \"2016-03-01T00:00:00\", \"TravelerType\": \"Family\", \"ADR\": 114.28999999999999, \"IsCanceled\": 7}, {\"Country\": \"France\", \"YearMonth\": \"2016-03-01T00:00:00\", \"TravelerType\": \"Group\", \"ADR\": 136.17642857142857, \"IsCanceled\": 1}, {\"Country\": \"France\", \"YearMonth\": \"2016-03-01T00:00:00\", \"TravelerType\": \"Solo\", \"ADR\": 75.71396226415095, \"IsCanceled\": 9}, {\"Country\": \"France\", \"YearMonth\": \"2016-04-01T00:00:00\", \"TravelerType\": \"Couple\", \"ADR\": 93.2903591160221, \"IsCanceled\": 54}, {\"Country\": \"France\", \"YearMonth\": \"2016-04-01T00:00:00\", \"TravelerType\": \"Family\", \"ADR\": 147.71092307692305, \"IsCanceled\": 17}, {\"Country\": \"France\", \"YearMonth\": \"2016-04-01T00:00:00\", \"TravelerType\": \"Group\", \"ADR\": 137.7456, \"IsCanceled\": 9}, {\"Country\": \"France\", \"YearMonth\": \"2016-04-01T00:00:00\", \"TravelerType\": \"Solo\", \"ADR\": 81.86871794871796, \"IsCanceled\": 4}, {\"Country\": \"France\", \"YearMonth\": \"2016-05-01T00:00:00\", \"TravelerType\": \"Couple\", \"ADR\": 103.32147727272726, \"IsCanceled\": 55}, {\"Country\": \"France\", \"YearMonth\": \"2016-05-01T00:00:00\", \"TravelerType\": \"Family\", \"ADR\": 155.3567741935484, \"IsCanceled\": 12}, {\"Country\": \"France\", \"YearMonth\": \"2016-05-01T00:00:00\", \"TravelerType\": \"Group\", \"ADR\": 147.52, \"IsCanceled\": 3}, {\"Country\": \"France\", \"YearMonth\": \"2016-05-01T00:00:00\", \"TravelerType\": \"Solo\", \"ADR\": 103.51240740740741, \"IsCanceled\": 4}, {\"Country\": \"France\", \"YearMonth\": \"2016-06-01T00:00:00\", \"TravelerType\": \"Couple\", \"ADR\": 104.03679867986799, \"IsCanceled\": 42}, {\"Country\": \"France\", \"YearMonth\": \"2016-06-01T00:00:00\", \"TravelerType\": \"Family\", \"ADR\": 153.4194117647059, \"IsCanceled\": 1}, {\"Country\": \"France\", \"YearMonth\": \"2016-06-01T00:00:00\", \"TravelerType\": \"Group\", \"ADR\": 146.03785714285715, \"IsCanceled\": 7}, {\"Country\": \"France\", \"YearMonth\": \"2016-06-01T00:00:00\", \"TravelerType\": \"Solo\", \"ADR\": 99.59948717948718, \"IsCanceled\": 2}, {\"Country\": \"France\", \"YearMonth\": \"2016-07-01T00:00:00\", \"TravelerType\": \"Couple\", \"ADR\": 116.77192468619248, \"IsCanceled\": 50}, {\"Country\": \"France\", \"YearMonth\": \"2016-07-01T00:00:00\", \"TravelerType\": \"Family\", \"ADR\": 146.25014285714286, \"IsCanceled\": 12}, {\"Country\": \"France\", \"YearMonth\": \"2016-07-01T00:00:00\", \"TravelerType\": \"Group\", \"ADR\": 148.8921052631579, \"IsCanceled\": 20}, {\"Country\": \"France\", \"YearMonth\": \"2016-07-01T00:00:00\", \"TravelerType\": \"Solo\", \"ADR\": 109.72275862068966, \"IsCanceled\": 4}, {\"Country\": \"France\", \"YearMonth\": \"2016-08-01T00:00:00\", \"TravelerType\": \"Couple\", \"ADR\": 128.10958974358974, \"IsCanceled\": 101}, {\"Country\": \"France\", \"YearMonth\": \"2016-08-01T00:00:00\", \"TravelerType\": \"Family\", \"ADR\": 170.54964601769913, \"IsCanceled\": 24}, {\"Country\": \"France\", \"YearMonth\": \"2016-08-01T00:00:00\", \"TravelerType\": \"Group\", \"ADR\": 156.78415584415586, \"IsCanceled\": 30}, {\"Country\": \"France\", \"YearMonth\": \"2016-08-01T00:00:00\", \"TravelerType\": \"Solo\", \"ADR\": 120.7386956521739, \"IsCanceled\": 4}, {\"Country\": \"France\", \"YearMonth\": \"2016-09-01T00:00:00\", \"TravelerType\": \"Couple\", \"ADR\": 119.34357615894041, \"IsCanceled\": 61}, {\"Country\": \"France\", \"YearMonth\": \"2016-09-01T00:00:00\", \"TravelerType\": \"Family\", \"ADR\": 191.33866666666665, \"IsCanceled\": 6}, {\"Country\": \"France\", \"YearMonth\": \"2016-09-01T00:00:00\", \"TravelerType\": \"Group\", \"ADR\": 162.87652173913045, \"IsCanceled\": 8}, {\"Country\": \"France\", \"YearMonth\": \"2016-09-01T00:00:00\", \"TravelerType\": \"Solo\", \"ADR\": 105.21545454545455, \"IsCanceled\": 10}, {\"Country\": \"France\", \"YearMonth\": \"2016-10-01T00:00:00\", \"TravelerType\": \"Couple\", \"ADR\": 102.51319711538461, \"IsCanceled\": 104}, {\"Country\": \"France\", \"YearMonth\": \"2016-10-01T00:00:00\", \"TravelerType\": \"Family\", \"ADR\": 140.62254237288136, \"IsCanceled\": 21}, {\"Country\": \"France\", \"YearMonth\": \"2016-10-01T00:00:00\", \"TravelerType\": \"Group\", \"ADR\": 129.74944444444444, \"IsCanceled\": 5}, {\"Country\": \"France\", \"YearMonth\": \"2016-10-01T00:00:00\", \"TravelerType\": \"Solo\", \"ADR\": 106.16070175438597, \"IsCanceled\": 19}, {\"Country\": \"France\", \"YearMonth\": \"2016-11-01T00:00:00\", \"TravelerType\": \"Couple\", \"ADR\": 80.97992610837439, \"IsCanceled\": 39}, {\"Country\": \"France\", \"YearMonth\": \"2016-11-01T00:00:00\", \"TravelerType\": \"Family\", \"ADR\": 102.01235294117647, \"IsCanceled\": 1}, {\"Country\": \"France\", \"YearMonth\": \"2016-11-01T00:00:00\", \"TravelerType\": \"Group\", \"ADR\": 101.84, \"IsCanceled\": 0}, {\"Country\": \"France\", \"YearMonth\": \"2016-11-01T00:00:00\", \"TravelerType\": \"Solo\", \"ADR\": 90.73396226415093, \"IsCanceled\": 2}, {\"Country\": \"France\", \"YearMonth\": \"2016-12-01T00:00:00\", \"TravelerType\": \"Couple\", \"ADR\": 89.88600619195047, \"IsCanceled\": 66}, {\"Country\": \"France\", \"YearMonth\": \"2016-12-01T00:00:00\", \"TravelerType\": \"Family\", \"ADR\": 110.11258064516129, \"IsCanceled\": 7}, {\"Country\": \"France\", \"YearMonth\": \"2016-12-01T00:00:00\", \"TravelerType\": \"Group\", \"ADR\": 140.22794117647058, \"IsCanceled\": 8}, {\"Country\": \"France\", \"YearMonth\": \"2016-12-01T00:00:00\", \"TravelerType\": \"Solo\", \"ADR\": 71.44837209302327, \"IsCanceled\": 5}, {\"Country\": \"France\", \"YearMonth\": \"2017-01-01T00:00:00\", \"TravelerType\": \"Couple\", \"ADR\": 81.95566820276498, \"IsCanceled\": 55}, {\"Country\": \"France\", \"YearMonth\": \"2017-01-01T00:00:00\", \"TravelerType\": \"Family\", \"ADR\": 106.06666666666666, \"IsCanceled\": 3}, {\"Country\": \"France\", \"YearMonth\": \"2017-01-01T00:00:00\", \"TravelerType\": \"Group\", \"ADR\": 109.07, \"IsCanceled\": 5}, {\"Country\": \"France\", \"YearMonth\": \"2017-01-01T00:00:00\", \"TravelerType\": \"Solo\", \"ADR\": 69.58292682926829, \"IsCanceled\": 4}, {\"Country\": \"France\", \"YearMonth\": \"2017-02-01T00:00:00\", \"TravelerType\": \"Couple\", \"ADR\": 83.3808695652174, \"IsCanceled\": 71}, {\"Country\": \"France\", \"YearMonth\": \"2017-02-01T00:00:00\", \"TravelerType\": \"Family\", \"ADR\": 117.20202702702704, \"IsCanceled\": 20}, {\"Country\": \"France\", \"YearMonth\": \"2017-02-01T00:00:00\", \"TravelerType\": \"Group\", \"ADR\": 132.7168085106383, \"IsCanceled\": 12}, {\"Country\": \"France\", \"YearMonth\": \"2017-02-01T00:00:00\", \"TravelerType\": \"Solo\", \"ADR\": 75.74608695652174, \"IsCanceled\": 7}, {\"Country\": \"France\", \"YearMonth\": \"2017-03-01T00:00:00\", \"TravelerType\": \"Couple\", \"ADR\": 87.85473684210525, \"IsCanceled\": 85}, {\"Country\": \"France\", \"YearMonth\": \"2017-03-01T00:00:00\", \"TravelerType\": \"Family\", \"ADR\": 123.426875, \"IsCanceled\": 3}, {\"Country\": \"France\", \"YearMonth\": \"2017-03-01T00:00:00\", \"TravelerType\": \"Group\", \"ADR\": 130.97793103448276, \"IsCanceled\": 12}, {\"Country\": \"France\", \"YearMonth\": \"2017-03-01T00:00:00\", \"TravelerType\": \"Solo\", \"ADR\": 83.97794642857143, \"IsCanceled\": 4}, {\"Country\": \"France\", \"YearMonth\": \"2017-04-01T00:00:00\", \"TravelerType\": \"Couple\", \"ADR\": 114.67082687338501, \"IsCanceled\": 97}, {\"Country\": \"France\", \"YearMonth\": \"2017-04-01T00:00:00\", \"TravelerType\": \"Family\", \"ADR\": 165.40444444444444, \"IsCanceled\": 22}, {\"Country\": \"France\", \"YearMonth\": \"2017-04-01T00:00:00\", \"TravelerType\": \"Group\", \"ADR\": 172.99, \"IsCanceled\": 22}, {\"Country\": \"France\", \"YearMonth\": \"2017-04-01T00:00:00\", \"TravelerType\": \"Solo\", \"ADR\": 112.57290322580646, \"IsCanceled\": 8}, {\"Country\": \"France\", \"YearMonth\": \"2017-05-01T00:00:00\", \"TravelerType\": \"Couple\", \"ADR\": 126.25960824742269, \"IsCanceled\": 124}, {\"Country\": \"France\", \"YearMonth\": \"2017-05-01T00:00:00\", \"TravelerType\": \"Family\", \"ADR\": 174.93333333333334, \"IsCanceled\": 11}, {\"Country\": \"France\", \"YearMonth\": \"2017-05-01T00:00:00\", \"TravelerType\": \"Group\", \"ADR\": 184.6185714285714, \"IsCanceled\": 6}, {\"Country\": \"France\", \"YearMonth\": \"2017-05-01T00:00:00\", \"TravelerType\": \"Solo\", \"ADR\": 126.64258620689655, \"IsCanceled\": 9}, {\"Country\": \"France\", \"YearMonth\": \"2017-06-01T00:00:00\", \"TravelerType\": \"Couple\", \"ADR\": 133.9188552188552, \"IsCanceled\": 76}, {\"Country\": \"France\", \"YearMonth\": \"2017-06-01T00:00:00\", \"TravelerType\": \"Family\", \"ADR\": 190.52694444444444, \"IsCanceled\": 17}, {\"Country\": \"France\", \"YearMonth\": \"2017-06-01T00:00:00\", \"TravelerType\": \"Group\", \"ADR\": 183.27270833333333, \"IsCanceled\": 21}, {\"Country\": \"France\", \"YearMonth\": \"2017-06-01T00:00:00\", \"TravelerType\": \"Solo\", \"ADR\": 123.26187499999999, \"IsCanceled\": 6}, {\"Country\": \"France\", \"YearMonth\": \"2017-07-01T00:00:00\", \"TravelerType\": \"Couple\", \"ADR\": 131.23300411522632, \"IsCanceled\": 69}, {\"Country\": \"France\", \"YearMonth\": \"2017-07-01T00:00:00\", \"TravelerType\": \"Family\", \"ADR\": 175.63735849056604, \"IsCanceled\": 13}, {\"Country\": \"France\", \"YearMonth\": \"2017-07-01T00:00:00\", \"TravelerType\": \"Group\", \"ADR\": 178.49355555555556, \"IsCanceled\": 17}, {\"Country\": \"France\", \"YearMonth\": \"2017-07-01T00:00:00\", \"TravelerType\": \"Solo\", \"ADR\": 115.98, \"IsCanceled\": 7}, {\"Country\": \"France\", \"YearMonth\": \"2017-08-01T00:00:00\", \"TravelerType\": \"Couple\", \"ADR\": 148.47348082595872, \"IsCanceled\": 104}, {\"Country\": \"France\", \"YearMonth\": \"2017-08-01T00:00:00\", \"TravelerType\": \"Family\", \"ADR\": 192.54956043956042, \"IsCanceled\": 37}, {\"Country\": \"France\", \"YearMonth\": \"2017-08-01T00:00:00\", \"TravelerType\": \"Group\", \"ADR\": 194.0268493150685, \"IsCanceled\": 33}, {\"Country\": \"France\", \"YearMonth\": \"2017-08-01T00:00:00\", \"TravelerType\": \"Solo\", \"ADR\": 135.9104347826087, \"IsCanceled\": 9}, {\"Country\": \"Italy\", \"YearMonth\": \"2015-07-01T00:00:00\", \"TravelerType\": \"Couple\", \"ADR\": 96.67786885245903, \"IsCanceled\": 49}, {\"Country\": \"Italy\", \"YearMonth\": \"2015-07-01T00:00:00\", \"TravelerType\": \"Family\", \"ADR\": 162.0, \"IsCanceled\": 0}, {\"Country\": \"Italy\", \"YearMonth\": \"2015-07-01T00:00:00\", \"TravelerType\": \"Group\", \"ADR\": 0.0, \"IsCanceled\": 0}, {\"Country\": \"Italy\", \"YearMonth\": \"2015-07-01T00:00:00\", \"TravelerType\": \"Solo\", \"ADR\": 60.185, \"IsCanceled\": 0}, {\"Country\": \"Italy\", \"YearMonth\": \"2015-08-01T00:00:00\", \"TravelerType\": \"Couple\", \"ADR\": 94.17846625766872, \"IsCanceled\": 63}, {\"Country\": \"Italy\", \"YearMonth\": \"2015-08-01T00:00:00\", \"TravelerType\": \"Family\", \"ADR\": 98.35, \"IsCanceled\": 1}, {\"Country\": \"Italy\", \"YearMonth\": \"2015-08-01T00:00:00\", \"TravelerType\": \"Group\", \"ADR\": 130.2118181818182, \"IsCanceled\": 1}, {\"Country\": \"Italy\", \"YearMonth\": \"2015-08-01T00:00:00\", \"TravelerType\": \"Solo\", \"ADR\": 60.1578947368421, \"IsCanceled\": 2}, {\"Country\": \"Italy\", \"YearMonth\": \"2015-09-01T00:00:00\", \"TravelerType\": \"Couple\", \"ADR\": 118.14808988764045, \"IsCanceled\": 2}, {\"Country\": \"Italy\", \"YearMonth\": \"2015-09-01T00:00:00\", \"TravelerType\": \"Family\", \"ADR\": 160.875, \"IsCanceled\": 0}, {\"Country\": \"Italy\", \"YearMonth\": \"2015-09-01T00:00:00\", \"TravelerType\": \"Group\", \"ADR\": 85.0, \"IsCanceled\": 0}, {\"Country\": \"Italy\", \"YearMonth\": \"2015-09-01T00:00:00\", \"TravelerType\": \"Solo\", \"ADR\": 117.99304347826087, \"IsCanceled\": 0}, {\"Country\": \"Italy\", \"YearMonth\": \"2015-10-01T00:00:00\", \"TravelerType\": \"Couple\", \"ADR\": 100.20938775510204, \"IsCanceled\": 0}, {\"Country\": \"Italy\", \"YearMonth\": \"2015-10-01T00:00:00\", \"TravelerType\": \"Family\", \"ADR\": 99.185, \"IsCanceled\": 0}, {\"Country\": \"Italy\", \"YearMonth\": \"2015-10-01T00:00:00\", \"TravelerType\": \"Group\", \"ADR\": 97.92, \"IsCanceled\": 0}, {\"Country\": \"Italy\", \"YearMonth\": \"2015-10-01T00:00:00\", \"TravelerType\": \"Solo\", \"ADR\": 107.69857142857143, \"IsCanceled\": 0}, {\"Country\": \"Italy\", \"YearMonth\": \"2015-11-01T00:00:00\", \"TravelerType\": \"Couple\", \"ADR\": 66.88125, \"IsCanceled\": 2}, {\"Country\": \"Italy\", \"YearMonth\": \"2015-11-01T00:00:00\", \"TravelerType\": \"Family\", \"ADR\": 105.14, \"IsCanceled\": 0}, {\"Country\": \"Italy\", \"YearMonth\": \"2015-11-01T00:00:00\", \"TravelerType\": \"Solo\", \"ADR\": 63.21083333333333, \"IsCanceled\": 1}, {\"Country\": \"Italy\", \"YearMonth\": \"2015-12-01T00:00:00\", \"TravelerType\": \"Couple\", \"ADR\": 74.87551020408164, \"IsCanceled\": 4}, {\"Country\": \"Italy\", \"YearMonth\": \"2015-12-01T00:00:00\", \"TravelerType\": \"Family\", \"ADR\": 130.9175, \"IsCanceled\": 0}, {\"Country\": \"Italy\", \"YearMonth\": \"2015-12-01T00:00:00\", \"TravelerType\": \"Group\", \"ADR\": 182.25, \"IsCanceled\": 0}, {\"Country\": \"Italy\", \"YearMonth\": \"2015-12-01T00:00:00\", \"TravelerType\": \"Solo\", \"ADR\": 63.74, \"IsCanceled\": 0}, {\"Country\": \"Italy\", \"YearMonth\": \"2016-01-01T00:00:00\", \"TravelerType\": \"Couple\", \"ADR\": 84.02479452054796, \"IsCanceled\": 11}, {\"Country\": \"Italy\", \"YearMonth\": \"2016-01-01T00:00:00\", \"TravelerType\": \"Family\", \"ADR\": 83.85, \"IsCanceled\": 0}, {\"Country\": \"Italy\", \"YearMonth\": \"2016-01-01T00:00:00\", \"TravelerType\": \"Group\", \"ADR\": 130.0, \"IsCanceled\": 0}, {\"Country\": \"Italy\", \"YearMonth\": \"2016-01-01T00:00:00\", \"TravelerType\": \"Solo\", \"ADR\": 73.63214285714285, \"IsCanceled\": 0}, {\"Country\": \"Italy\", \"YearMonth\": \"2016-02-01T00:00:00\", \"TravelerType\": \"Couple\", \"ADR\": 81.52438596491228, \"IsCanceled\": 20}, {\"Country\": \"Italy\", \"YearMonth\": \"2016-02-01T00:00:00\", \"TravelerType\": \"Family\", \"ADR\": 112.32333333333332, \"IsCanceled\": 4}, {\"Country\": \"Italy\", \"YearMonth\": \"2016-02-01T00:00:00\", \"TravelerType\": \"Group\", \"ADR\": 131.25, \"IsCanceled\": 0}, {\"Country\": \"Italy\", \"YearMonth\": \"2016-02-01T00:00:00\", \"TravelerType\": \"Solo\", \"ADR\": 84.72222222222223, \"IsCanceled\": 4}, {\"Country\": \"Italy\", \"YearMonth\": \"2016-03-01T00:00:00\", \"TravelerType\": \"Couple\", \"ADR\": 87.04558823529412, \"IsCanceled\": 38}, {\"Country\": \"Italy\", \"YearMonth\": \"2016-03-01T00:00:00\", \"TravelerType\": \"Family\", \"ADR\": 109.08923076923078, \"IsCanceled\": 4}, {\"Country\": \"Italy\", \"YearMonth\": \"2016-03-01T00:00:00\", \"TravelerType\": \"Group\", \"ADR\": 148.74666666666667, \"IsCanceled\": 6}, {\"Country\": \"Italy\", \"YearMonth\": \"2016-03-01T00:00:00\", \"TravelerType\": \"Solo\", \"ADR\": 74.999, \"IsCanceled\": 2}, {\"Country\": \"Italy\", \"YearMonth\": \"2016-04-01T00:00:00\", \"TravelerType\": \"Couple\", \"ADR\": 95.67068702290076, \"IsCanceled\": 48}, {\"Country\": \"Italy\", \"YearMonth\": \"2016-04-01T00:00:00\", \"TravelerType\": \"Family\", \"ADR\": 156.6224, \"IsCanceled\": 11}, {\"Country\": \"Italy\", \"YearMonth\": \"2016-04-01T00:00:00\", \"TravelerType\": \"Group\", \"ADR\": 147.3, \"IsCanceled\": 4}, {\"Country\": \"Italy\", \"YearMonth\": \"2016-04-01T00:00:00\", \"TravelerType\": \"Solo\", \"ADR\": 96.2635, \"IsCanceled\": 10}, {\"Country\": \"Italy\", \"YearMonth\": \"2016-05-01T00:00:00\", \"TravelerType\": \"Couple\", \"ADR\": 111.32979381443299, \"IsCanceled\": 28}, {\"Country\": \"Italy\", \"YearMonth\": \"2016-05-01T00:00:00\", \"TravelerType\": \"Family\", \"ADR\": 162.5772727272727, \"IsCanceled\": 5}, {\"Country\": \"Italy\", \"YearMonth\": \"2016-05-01T00:00:00\", \"TravelerType\": \"Group\", \"ADR\": 154.436, \"IsCanceled\": 4}, {\"Country\": \"Italy\", \"YearMonth\": \"2016-05-01T00:00:00\", \"TravelerType\": \"Solo\", \"ADR\": 107.86478260869565, \"IsCanceled\": 4}, {\"Country\": \"Italy\", \"YearMonth\": \"2016-06-01T00:00:00\", \"TravelerType\": \"Couple\", \"ADR\": 108.178, \"IsCanceled\": 19}, {\"Country\": \"Italy\", \"YearMonth\": \"2016-06-01T00:00:00\", \"TravelerType\": \"Family\", \"ADR\": 170.66533333333334, \"IsCanceled\": 3}, {\"Country\": \"Italy\", \"YearMonth\": \"2016-06-01T00:00:00\", \"TravelerType\": \"Group\", \"ADR\": 161.81875000000002, \"IsCanceled\": 11}, {\"Country\": \"Italy\", \"YearMonth\": \"2016-06-01T00:00:00\", \"TravelerType\": \"Solo\", \"ADR\": 107.91666666666667, \"IsCanceled\": 2}, {\"Country\": \"Italy\", \"YearMonth\": \"2016-07-01T00:00:00\", \"TravelerType\": \"Couple\", \"ADR\": 119.53975, \"IsCanceled\": 30}, {\"Country\": \"Italy\", \"YearMonth\": \"2016-07-01T00:00:00\", \"TravelerType\": \"Family\", \"ADR\": 151.79882352941175, \"IsCanceled\": 9}, {\"Country\": \"Italy\", \"YearMonth\": \"2016-07-01T00:00:00\", \"TravelerType\": \"Group\", \"ADR\": 148.76535714285714, \"IsCanceled\": 14}, {\"Country\": \"Italy\", \"YearMonth\": \"2016-07-01T00:00:00\", \"TravelerType\": \"Solo\", \"ADR\": 87.46000000000001, \"IsCanceled\": 1}, {\"Country\": \"Italy\", \"YearMonth\": \"2016-08-01T00:00:00\", \"TravelerType\": \"Couple\", \"ADR\": 123.91452830188679, \"IsCanceled\": 67}, {\"Country\": \"Italy\", \"YearMonth\": \"2016-08-01T00:00:00\", \"TravelerType\": \"Family\", \"ADR\": 164.5029268292683, \"IsCanceled\": 14}, {\"Country\": \"Italy\", \"YearMonth\": \"2016-08-01T00:00:00\", \"TravelerType\": \"Group\", \"ADR\": 146.38, \"IsCanceled\": 29}, {\"Country\": \"Italy\", \"YearMonth\": \"2016-08-01T00:00:00\", \"TravelerType\": \"Solo\", \"ADR\": 84.14285714285714, \"IsCanceled\": 0}, {\"Country\": \"Italy\", \"YearMonth\": \"2016-09-01T00:00:00\", \"TravelerType\": \"Couple\", \"ADR\": 119.70712499999999, \"IsCanceled\": 22}, {\"Country\": \"Italy\", \"YearMonth\": \"2016-09-01T00:00:00\", \"TravelerType\": \"Family\", \"ADR\": 174.01333333333332, \"IsCanceled\": 4}, {\"Country\": \"Italy\", \"YearMonth\": \"2016-09-01T00:00:00\", \"TravelerType\": \"Group\", \"ADR\": 157.2357142857143, \"IsCanceled\": 6}, {\"Country\": \"Italy\", \"YearMonth\": \"2016-09-01T00:00:00\", \"TravelerType\": \"Solo\", \"ADR\": 104.21940000000001, \"IsCanceled\": 2}, {\"Country\": \"Italy\", \"YearMonth\": \"2016-10-01T00:00:00\", \"TravelerType\": \"Couple\", \"ADR\": 114.33372340425532, \"IsCanceled\": 43}, {\"Country\": \"Italy\", \"YearMonth\": \"2016-10-01T00:00:00\", \"TravelerType\": \"Family\", \"ADR\": 123.28666666666666, \"IsCanceled\": 5}, {\"Country\": \"Italy\", \"YearMonth\": \"2016-10-01T00:00:00\", \"TravelerType\": \"Group\", \"ADR\": 151.393125, \"IsCanceled\": 12}, {\"Country\": \"Italy\", \"YearMonth\": \"2016-10-01T00:00:00\", \"TravelerType\": \"Solo\", \"ADR\": 100.53037037037038, \"IsCanceled\": 3}, {\"Country\": \"Italy\", \"YearMonth\": \"2016-11-01T00:00:00\", \"TravelerType\": \"Couple\", \"ADR\": 89.28392523364485, \"IsCanceled\": 45}, {\"Country\": \"Italy\", \"YearMonth\": \"2016-11-01T00:00:00\", \"TravelerType\": \"Family\", \"ADR\": 133.59583333333333, \"IsCanceled\": 5}, {\"Country\": \"Italy\", \"YearMonth\": \"2016-11-01T00:00:00\", \"TravelerType\": \"Group\", \"ADR\": 118.23692307692308, \"IsCanceled\": 6}, {\"Country\": \"Italy\", \"YearMonth\": \"2016-11-01T00:00:00\", \"TravelerType\": \"Solo\", \"ADR\": 92.34636363636363, \"IsCanceled\": 3}, {\"Country\": \"Italy\", \"YearMonth\": \"2016-12-01T00:00:00\", \"TravelerType\": \"Couple\", \"ADR\": 89.93819444444445, \"IsCanceled\": 70}, {\"Country\": \"Italy\", \"YearMonth\": \"2016-12-01T00:00:00\", \"TravelerType\": \"Family\", \"ADR\": 129.618, \"IsCanceled\": 14}, {\"Country\": \"Italy\", \"YearMonth\": \"2016-12-01T00:00:00\", \"TravelerType\": \"Group\", \"ADR\": 126.4648, \"IsCanceled\": 14}, {\"Country\": \"Italy\", \"YearMonth\": \"2016-12-01T00:00:00\", \"TravelerType\": \"Solo\", \"ADR\": 73.94999999999999, \"IsCanceled\": 6}, {\"Country\": \"Italy\", \"YearMonth\": \"2017-01-01T00:00:00\", \"TravelerType\": \"Couple\", \"ADR\": 79.53643356643356, \"IsCanceled\": 53}, {\"Country\": \"Italy\", \"YearMonth\": \"2017-01-01T00:00:00\", \"TravelerType\": \"Family\", \"ADR\": 118.9175, \"IsCanceled\": 7}, {\"Country\": \"Italy\", \"YearMonth\": \"2017-01-01T00:00:00\", \"TravelerType\": \"Group\", \"ADR\": 133.85705882352943, \"IsCanceled\": 7}, {\"Country\": \"Italy\", \"YearMonth\": \"2017-01-01T00:00:00\", \"TravelerType\": \"Solo\", \"ADR\": 70.80147058823529, \"IsCanceled\": 4}, {\"Country\": \"Italy\", \"YearMonth\": \"2017-02-01T00:00:00\", \"TravelerType\": \"Couple\", \"ADR\": 80.57285714285715, \"IsCanceled\": 38}, {\"Country\": \"Italy\", \"YearMonth\": \"2017-02-01T00:00:00\", \"TravelerType\": \"Family\", \"ADR\": 132.28222222222223, \"IsCanceled\": 4}, {\"Country\": \"Italy\", \"YearMonth\": \"2017-02-01T00:00:00\", \"TravelerType\": \"Group\", \"ADR\": 123.41266666666667, \"IsCanceled\": 6}, {\"Country\": \"Italy\", \"YearMonth\": \"2017-02-01T00:00:00\", \"TravelerType\": \"Solo\", \"ADR\": 69.86176470588236, \"IsCanceled\": 4}, {\"Country\": \"Italy\", \"YearMonth\": \"2017-03-01T00:00:00\", \"TravelerType\": \"Couple\", \"ADR\": 92.28743362831858, \"IsCanceled\": 42}, {\"Country\": \"Italy\", \"YearMonth\": \"2017-03-01T00:00:00\", \"TravelerType\": \"Family\", \"ADR\": 136.99666666666667, \"IsCanceled\": 3}, {\"Country\": \"Italy\", \"YearMonth\": \"2017-03-01T00:00:00\", \"TravelerType\": \"Group\", \"ADR\": 138.78923076923076, \"IsCanceled\": 4}, {\"Country\": \"Italy\", \"YearMonth\": \"2017-03-01T00:00:00\", \"TravelerType\": \"Solo\", \"ADR\": 84.38884615384616, \"IsCanceled\": 3}, {\"Country\": \"Italy\", \"YearMonth\": \"2017-04-01T00:00:00\", \"TravelerType\": \"Couple\", \"ADR\": 119.70685483870967, \"IsCanceled\": 62}, {\"Country\": \"Italy\", \"YearMonth\": \"2017-04-01T00:00:00\", \"TravelerType\": \"Family\", \"ADR\": 180.8725, \"IsCanceled\": 6}, {\"Country\": \"Italy\", \"YearMonth\": \"2017-04-01T00:00:00\", \"TravelerType\": \"Group\", \"ADR\": 170.86305555555555, \"IsCanceled\": 21}, {\"Country\": \"Italy\", \"YearMonth\": \"2017-04-01T00:00:00\", \"TravelerType\": \"Solo\", \"ADR\": 97.60074074074073, \"IsCanceled\": 3}, {\"Country\": \"Italy\", \"YearMonth\": \"2017-05-01T00:00:00\", \"TravelerType\": \"Couple\", \"ADR\": 131.63489583333333, \"IsCanceled\": 33}, {\"Country\": \"Italy\", \"YearMonth\": \"2017-05-01T00:00:00\", \"TravelerType\": \"Family\", \"ADR\": 186.22777777777776, \"IsCanceled\": 3}, {\"Country\": \"Italy\", \"YearMonth\": \"2017-05-01T00:00:00\", \"TravelerType\": \"Group\", \"ADR\": 193.68380952380954, \"IsCanceled\": 11}, {\"Country\": \"Italy\", \"YearMonth\": \"2017-05-01T00:00:00\", \"TravelerType\": \"Solo\", \"ADR\": 139.05107142857142, \"IsCanceled\": 1}, {\"Country\": \"Italy\", \"YearMonth\": \"2017-06-01T00:00:00\", \"TravelerType\": \"Couple\", \"ADR\": 131.48703125, \"IsCanceled\": 25}, {\"Country\": \"Italy\", \"YearMonth\": \"2017-06-01T00:00:00\", \"TravelerType\": \"Family\", \"ADR\": 200.02941176470588, \"IsCanceled\": 5}, {\"Country\": \"Italy\", \"YearMonth\": \"2017-06-01T00:00:00\", \"TravelerType\": \"Group\", \"ADR\": 182.33076923076925, \"IsCanceled\": 9}, {\"Country\": \"Italy\", \"YearMonth\": \"2017-06-01T00:00:00\", \"TravelerType\": \"Solo\", \"ADR\": 135.52941176470588, \"IsCanceled\": 4}, {\"Country\": \"Italy\", \"YearMonth\": \"2017-07-01T00:00:00\", \"TravelerType\": \"Couple\", \"ADR\": 139.53774774774774, \"IsCanceled\": 73}, {\"Country\": \"Italy\", \"YearMonth\": \"2017-07-01T00:00:00\", \"TravelerType\": \"Family\", \"ADR\": 186.10705882352943, \"IsCanceled\": 7}, {\"Country\": \"Italy\", \"YearMonth\": \"2017-07-01T00:00:00\", \"TravelerType\": \"Group\", \"ADR\": 176.89384615384614, \"IsCanceled\": 9}, {\"Country\": \"Italy\", \"YearMonth\": \"2017-07-01T00:00:00\", \"TravelerType\": \"Solo\", \"ADR\": 125.83333333333333, \"IsCanceled\": 1}, {\"Country\": \"Italy\", \"YearMonth\": \"2017-08-01T00:00:00\", \"TravelerType\": \"Couple\", \"ADR\": 149.79444444444445, \"IsCanceled\": 73}, {\"Country\": \"Italy\", \"YearMonth\": \"2017-08-01T00:00:00\", \"TravelerType\": \"Family\", \"ADR\": 179.62759999999997, \"IsCanceled\": 13}, {\"Country\": \"Italy\", \"YearMonth\": \"2017-08-01T00:00:00\", \"TravelerType\": \"Group\", \"ADR\": 191.33999999999997, \"IsCanceled\": 10}, {\"Country\": \"Italy\", \"YearMonth\": \"2017-08-01T00:00:00\", \"TravelerType\": \"Solo\", \"ADR\": 119.073125, \"IsCanceled\": 2}]}}, {\"mode\": \"vega-lite\"});\n",
       "</script>"
      ],
      "text/plain": [
       "alt.HConcatChart(...)"
      ]
     },
     "execution_count": 87,
     "metadata": {},
     "output_type": "execute_result"
    }
   ],
   "source": [
    "# Create an interactive plot, with Altair\n",
    "# Family demographics, per country\n",
    "import altair as alt\n",
    "import datetime\n",
    "import calendar\n",
    "import warnings\n",
    "warnings.filterwarnings(\"ignore\")\n",
    "\n",
    "# Disable maximum row limit in Altair\n",
    "alt.data_transformers.disable_max_rows()\n",
    "\n",
    "# Create a column with datetimes for the arrival date\n",
    "datetime_objs = []\n",
    "for idx,row in bookings_df.iterrows():\n",
    "    # Convert the month name to an integer\n",
    "    month_int = list(calendar.month_name).index(row[\"ArrivalDateMonth\"])\n",
    "    \n",
    "    # Create a datetime object\n",
    "    datetime_obj = datetime.datetime(year=int(row[\"ArrivalDateYear\"]),\n",
    "                                 month=month_int,\n",
    "                                 day=int(row[\"ArrivalDateDayOfMonth\"]))\n",
    "    datetime_objs.append(datetime_obj)\n",
    "    \n",
    "bookings_df[\"ArrivalDatetime\"] = datetime_objs\n",
    "\n",
    "\n",
    "\n",
    "# Convert the dates to receive monthly averages for each country\n",
    "bookings_df[\"ArrivalDatetime\"] = pd.to_datetime(bookings_df[\"ArrivalDatetime\"])\n",
    "bookings_df[\"YearMonth\"] = bookings_df[\"ArrivalDatetime\"].dt.to_period(\"M\")\n",
    "\n",
    "\n",
    "# Aggregate ADR at the monthly level per country\n",
    "# & convert YearMonth back to datetime for Altair plotting\n",
    "agg_dct = {\"ADR\": \"mean\",\n",
    "           \"IsCanceled\": \"sum\"\n",
    "           #\"Adults\": \"sum\",\n",
    "           #\"Children\": \"sum\",\n",
    "           #\"Babies\": \"sum\"\n",
    "          }\n",
    "monthly_adr_df = bookings_df.groupby([\"Country\", \"YearMonth\", \"TravelerType\"], as_index=False).agg(agg_dct)\n",
    "monthly_adr_df[\"YearMonth\"] = monthly_adr_df[\"YearMonth\"].dt.to_timestamp()\n",
    "\n",
    "# Change the country names to prevent abbreviations from displaying\n",
    "# in the legend\n",
    "# Replace country abbreviations with full names\n",
    "country_mapping = {\n",
    "    \"ESP\": \"Spain\",\n",
    "    \"FRA\": \"France\", \n",
    "    \"ITA\": \"Italy\"\n",
    "}\n",
    "\n",
    "# Apply the mapping to the Country column\n",
    "monthly_adr_df[\"Country\"] = monthly_adr_df[\"Country\"].replace(country_mapping)\n",
    "\n",
    "\n",
    "\n",
    "# In Altair, create the combined visualization\n",
    "# Allow the user to select a Date range along the x-axis\n",
    "date_selection = alt.selection_interval(encodings=['x'])\n",
    "\n",
    "# Line chart of Monthly ADR\n",
    "line_chart = alt.Chart(monthly_adr_df).mark_line().encode(\n",
    "    x=alt.X(\"YearMonth:T\", title=\"Month/Year\", axis=alt.Axis(format=\"%b %Y\")),  # month year format on x-axis\n",
    "    y=alt.Y(\"mean(ADR):Q\", title=\"Average Daily Rate (ADR)\"),\n",
    "    #color=alt.condition(date_selection, \"Country:N\", alt.value(\"grey\")),\n",
    "    color=alt.Color(\"Country:N\", \n",
    "                scale=alt.Scale(\n",
    "                    domain=[\"France\", \"Italy\", \"Spain\"],\n",
    "                    range=[\"blue\", \"green\", \"red\"])),\n",
    "    opacity=alt.condition(date_selection, alt.value(1), alt.value(0.3)),\n",
    "    tooltip=[\"Country\", \"YearMonth\", \"mean(ADR):Q\"],\n",
    ").properties(\n",
    "    title=\"Average Room Rates, per Month/Year\",\n",
    "    height=720,\n",
    "    #width=250\n",
    ").add_params(\n",
    "    date_selection\n",
    ")\n",
    "\n",
    "\n",
    "# Bar chart of the Percentage of Cancelations, per Traveler Type\n",
    "bar_chart = alt.Chart(monthly_adr_df).transform_filter(\n",
    "    # For interval filtering\n",
    "    date_selection\n",
    "    \n",
    ").transform_aggregate(\n",
    "    TotalCancelations=\"sum(IsCanceled)\",\n",
    "    groupby=[\"TravelerType\"]\n",
    "    \n",
    ").transform_window(\n",
    "    TotalSum='sum(TotalCancelations)',\n",
    "    frame=[None, None]  # wasn't working before\n",
    "    \n",
    ").transform_calculate(\n",
    "    # Moving percentage\n",
    "    PercentTotal=\"datum.TotalCancelations / datum.TotalSum\"\n",
    "    \n",
    ").mark_bar().encode(\n",
    "    x=alt.X(\"TravelerType:N\", title=\"Traveler Type\"),\n",
    "    y=alt.Y(\"PercentTotal:Q\", axis=alt.Axis(format='%'), title=\"Percentage of Cancellations\"),\n",
    "    #color=alt.Color(\"TravelerType:N\"),\n",
    "    tooltip=[\"TravelerType:N\", \"PercentTotal:Q\"]\n",
    "    \n",
    ").properties(\n",
    "    title=\"Percentage of Cancellations by Traveler Type\",\n",
    "    height=720,\n",
    "    #width=200\n",
    ")\n",
    "\n",
    "\n",
    "chart = line_chart | bar_chart\n",
    "chart"
   ]
  },
  {
   "cell_type": "markdown",
   "id": "47123d64-b3d8-4be0-9a97-b5ffc2eea475",
   "metadata": {},
   "source": [
    "### Analysis of the Interactive Line & Bar Plot:\n",
    "    Based on the interactive visualization above, one could see that it's a joint graph between a line and bar plot. The reasoning behind this is to provide accurate insights behind what might be driving cancellation rates in hotels in Spain, Italy, and France - we can determine exploratory and explanatory insights from this visualization. The line plot measures average room rates respective to a specific month and year; for these values, the Average Daily Room Rate has been aggregated from a daily to a monthly rate, which maintains consistency with the date (independent variable). As for the specific trends that we can see, this relationship has been designated by the specific country the hotels pertain to. For example, we see a similar, potentially cyclical trend, that might hint at seasonality between the Summer and Winter months. It looks like that the room rates are at elevated values for Summer months, which suggests that demand might be higher during these months, due to factors like tourism. On a per country basis, it is hard to make a determinable conclusion other than the fact that Spain has had the highest Summer monthly rates (2016 & 2017) whereas they had the lowest Winter monthly rates (2015) and France also had the lowest (2017).\n",
    "    As for the bar plot, this analysis is between traveler type and the percentage of cancellations respective to that type. Our motive to include this graph was to be able to understand, at specific periods, which types of travelers were cancelling reservations more so than the other groups. This plot updates per the selection interval the user makes in the line plot. Overall, though, we can clearly see that an overwhelming majority of cancellations stem from the \"couple\" traveler type. This is an interesting factor because it is at 70%, which is ~60% higher than the next respective type (family). This possibly suggests that couples have more freedom to move hotel bookings or a higher incentive to look for bargains and, therefore, cancel bookings that are too expensive/not worth it. This also suggests that, for the other types, it might be too difficult for families or solo travelers to cancel bookings: families typically have a lot of responsibilities and solo travelers might be highly correlated with business travel."
   ]
  },
  {
   "cell_type": "code",
   "execution_count": 88,
   "id": "0057c920-aef2-4327-957f-d34067fcb91e",
   "metadata": {},
   "outputs": [],
   "source": [
    "# Save Altair chart to html\n",
    "chart.save(\"altair_advCancel.html\")"
   ]
  },
  {
   "cell_type": "code",
   "execution_count": 16,
   "id": "4ca32f34-b21c-45c3-9e96-fd901ff1f499",
   "metadata": {},
   "outputs": [
    {
     "data": {
      "image/png": "[encoded data removed]",
      "text/plain": [
       "<Figure size 2000x800 with 6 Axes>"
      ]
     },
     "metadata": {},
     "output_type": "display_data"
    }
   ],
   "source": [
    "import pandas as pd\n",
    "import matplotlib.pyplot as plt\n",
    "import seaborn as sns\n",
    "import os\n",
    "\n",
    "# Create images directory if it doesn't exist\n",
    "os.makedirs('images', exist_ok=True)\n",
    "\n",
    "# Define the countries and their colors for visual consistency\n",
    "countries = ['ESP', 'FRA', 'ITA']\n",
    "country_names = ['Spain', 'France', 'Italy']\n",
    "color_maps = ['Reds', 'Blues', 'Greens']  # Different color scheme for each country\n",
    "\n",
    "# Create figure with 3 subplots\n",
    "fig, axes = plt.subplots(1, 3, figsize=(20, 8))\n",
    "\n",
    "# For each country, create and plot its cancellation rate heatmap\n",
    "for i, (country, country_name, cmap) in enumerate(zip(countries, country_names, color_maps)):\n",
    "    # Filter for the current country\n",
    "    country_df = bookings_df[bookings_df['Country'] == country]\n",
    "    \n",
    "    # Create pivot table for cancellation rates\n",
    "    pivot_cancel_rate = pd.pivot_table(\n",
    "        country_df,\n",
    "        values='IsCanceled',\n",
    "        index='MarketSegment',\n",
    "        columns='CustomerType',\n",
    "        aggfunc='mean',\n",
    "        margins=True,\n",
    "        margins_name='Total'\n",
    "    )\n",
    "    \n",
    "    # Plot the heatmap\n",
    "    sns.heatmap(\n",
    "        pivot_cancel_rate,\n",
    "        annot=True,\n",
    "        fmt='.2f',\n",
    "        cmap=cmap,\n",
    "        cbar=True,\n",
    "        linewidths=.5,\n",
    "        square=True,\n",
    "        ax=axes[i]\n",
    "    )\n",
    "    \n",
    "    # Set titles and labels\n",
    "    axes[i].set_title(f'{country_name} Cancellation Rates', fontsize=14, weight='bold')\n",
    "    axes[i].set_xlabel('Customer Type', fontsize=12)\n",
    "    \n",
    "    # Only include y-axis label for the first subplot to avoid repetition\n",
    "    if i == 0:\n",
    "        axes[i].set_ylabel('Market Segment', fontsize=12)\n",
    "    else:\n",
    "        axes[i].set_ylabel('')\n",
    "\n",
    "# Add a super title\n",
    "plt.suptitle('Market Segment vs. Customer Type Cancellation Rates by Country', \n",
    "             fontsize=18, weight='bold', y=1.02)\n",
    "\n",
    "# Adjust layout and save\n",
    "plt.tight_layout()\n",
    "plt.savefig('images/market_segmentation_by_country.png', dpi=300, bbox_inches='tight')\n",
    "plt.show()"
   ]
  }
 ],
 "metadata": {
  "kernelspec": {
   "display_name": "Python [conda env:base] *",
   "language": "python",
   "name": "conda-base-py"
  },
  "language_info": {
   "codemirror_mode": {
    "name": "ipython",
    "version": 3
   },
   "file_extension": ".py",
   "mimetype": "text/x-python",
   "name": "python",
   "nbconvert_exporter": "python",
   "pygments_lexer": "ipython3",
   "version": "3.12.7"
  }
 },
 "nbformat": 4,
 "nbformat_minor": 5
}
